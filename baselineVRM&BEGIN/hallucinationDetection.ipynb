{
 "cells": [
  {
   "cell_type": "code",
   "execution_count": 1,
   "metadata": {},
   "outputs": [],
   "source": [
    "import pandas as pd\n",
    "df = pd.read_csv('train_critic.csv')\n",
    "import nltk\n",
    "from nltk import word_tokenize"
   ]
  },
  {
   "attachments": {},
   "cell_type": "markdown",
   "metadata": {},
   "source": [
    "# Match Nouns and Adjectives in question and responses"
   ]
  },
  {
   "cell_type": "code",
   "execution_count": 2,
   "metadata": {},
   "outputs": [],
   "source": [
    "def get_match(row):\n",
    "    question = str(row['questions'])\n",
    "    answer = str(row['answers'])\n",
    "    knowledge = str(row['knowledge'])\n",
    "    question_tokens = word_tokenize(question)\n",
    "    question_tags = nltk.pos_tag(question_tokens, tagset=\"universal\")\n",
    "    answer_tokens = word_tokenize(answer)\n",
    "    answer_tags = nltk.pos_tag(answer_tokens, tagset=\"universal\")\n",
    "    knowledge_tokens = word_tokenize(knowledge)\n",
    "    knowledge_tags = nltk.pos_tag(knowledge_tokens, tagset=\"universal\")\n",
    "    question_nouns, question_adjs, answer_nouns, answer_adjs, knowledge_nouns, knowledge_adjs = set(), set(), set(), set(), set(), set()\n",
    "    for tag in question_tags:\n",
    "        if tag[1]=='NOUN':\n",
    "            question_nouns.add(tag[0])\n",
    "        elif tag[1]=='ADJ':\n",
    "            question_adjs.add(tag[0])\n",
    "    for tag in answer_tags:\n",
    "        if tag[1]=='NOUN':\n",
    "            answer_nouns.add(tag[0])\n",
    "        elif tag[1]=='ADJ':\n",
    "            answer_adjs.add(tag[0])\n",
    "    for tag in knowledge_tags:\n",
    "        if tag[1]=='NOUN':\n",
    "            knowledge_nouns.add(tag[0])\n",
    "        elif tag[1]=='ADJ':\n",
    "            knowledge_adjs.add(tag[0])\n",
    "\n",
    "    if len(answer_nouns)==0 and len(question_nouns)==0:\n",
    "        row['question_noun_match']=0\n",
    "    elif len(answer_nouns)==0:\n",
    "        row['question_noun_match']=1\n",
    "    else:\n",
    "        row['question_noun_match'] = len(answer_nouns-question_nouns)/len(answer_nouns)\n",
    "\n",
    "    if len(answer_nouns)==0 and len(knowledge_nouns)==0:\n",
    "        row['knowledge_noun_match']=0\n",
    "    elif len(answer_nouns)==0:\n",
    "        row['knowledge_noun_match']=1\n",
    "    else:\n",
    "        row['knowledge_noun_match'] = len(answer_nouns-knowledge_nouns)/len(answer_nouns)\n",
    "\n",
    "    if len(answer_adjs)==0 and len(question_adjs)==0:\n",
    "        row['question_adj_match']=0\n",
    "    elif len(answer_adjs)==0:\n",
    "        row['question_adj_match']=1\n",
    "    else:\n",
    "        row['question_adj_match'] = len(answer_adjs-question_adjs)/len(answer_adjs)\n",
    "\n",
    "    if len(answer_adjs)==0 and len(knowledge_adjs)==0:\n",
    "        row['knowledge_adj_match']=0\n",
    "    elif len(answer_adjs)==0:\n",
    "        row['knowledge_adj_match']=1\n",
    "    else:\n",
    "        row['knowledge_adj_match'] = len(answer_adjs-knowledge_adjs)/len(answer_adjs)\n",
    "    return row\n"
   ]
  },
  {
   "cell_type": "code",
   "execution_count": 3,
   "metadata": {},
   "outputs": [
    {
     "data": {
      "text/plain": [
       "0        0.666667\n",
       "1        1.000000\n",
       "2        1.000000\n",
       "3        1.000000\n",
       "4        1.000000\n",
       "           ...   \n",
       "18352    1.000000\n",
       "18353    1.000000\n",
       "18354    1.000000\n",
       "18355    1.000000\n",
       "18356    1.000000\n",
       "Name: question_adj_match, Length: 18357, dtype: float64"
      ]
     },
     "execution_count": 3,
     "metadata": {},
     "output_type": "execute_result"
    }
   ],
   "source": [
    "df = df.apply(lambda row: get_match(row), axis=1)\n",
    "df.question_adj_match"
   ]
  },
  {
   "cell_type": "code",
   "execution_count": 4,
   "metadata": {},
   "outputs": [
    {
     "data": {
      "text/plain": [
       "question_adj_match\n",
       "1.000000    15299\n",
       "0.000000     1149\n",
       "0.500000      761\n",
       "0.666667      570\n",
       "0.750000      297\n",
       "0.800000      121\n",
       "0.333333       68\n",
       "0.833333       35\n",
       "0.600000       22\n",
       "0.857143       18\n",
       "0.250000        9\n",
       "0.714286        3\n",
       "0.888889        2\n",
       "0.875000        2\n",
       "0.400000        1\n",
       "Name: count, dtype: int64"
      ]
     },
     "execution_count": 4,
     "metadata": {},
     "output_type": "execute_result"
    }
   ],
   "source": [
    "df.question_adj_match.value_counts()"
   ]
  },
  {
   "cell_type": "code",
   "execution_count": 5,
   "metadata": {},
   "outputs": [
    {
     "data": {
      "text/plain": [
       "question_noun_match\n",
       "1.000000    9473\n",
       "0.750000    1400\n",
       "0.666667    1373\n",
       "0.500000    1167\n",
       "0.800000     995\n",
       "0.833333     737\n",
       "0.600000     466\n",
       "0.857143     429\n",
       "0.333333     334\n",
       "0.714286     306\n",
       "0.875000     301\n",
       "0.000000     295\n",
       "0.888889     162\n",
       "0.400000     135\n",
       "0.571429     103\n",
       "0.777778     102\n",
       "0.250000      94\n",
       "0.625000      73\n",
       "0.900000      72\n",
       "0.909091      48\n",
       "0.700000      35\n",
       "0.428571      28\n",
       "0.818182      27\n",
       "0.916667      23\n",
       "0.555556      20\n",
       "0.200000      19\n",
       "0.727273      17\n",
       "0.923077      15\n",
       "0.846154      13\n",
       "0.928571      12\n",
       "0.444444      11\n",
       "0.769231      10\n",
       "0.636364       6\n",
       "0.285714       6\n",
       "0.375000       5\n",
       "0.785714       5\n",
       "0.692308       5\n",
       "0.866667       4\n",
       "0.933333       4\n",
       "0.142857       4\n",
       "0.937500       4\n",
       "0.166667       3\n",
       "0.733333       2\n",
       "0.545455       2\n",
       "0.583333       2\n",
       "0.941176       1\n",
       "0.764706       1\n",
       "0.850000       1\n",
       "0.944444       1\n",
       "0.789474       1\n",
       "0.125000       1\n",
       "0.300000       1\n",
       "0.230769       1\n",
       "0.956522       1\n",
       "0.538462       1\n",
       "Name: count, dtype: int64"
      ]
     },
     "execution_count": 5,
     "metadata": {},
     "output_type": "execute_result"
    }
   ],
   "source": [
    "df.question_noun_match.value_counts()"
   ]
  },
  {
   "cell_type": "code",
   "execution_count": 6,
   "metadata": {},
   "outputs": [
    {
     "data": {
      "text/plain": [
       "knowledge_noun_match\n",
       "1.000000    4410\n",
       "0.000000    2359\n",
       "0.500000    2318\n",
       "0.333333    1427\n",
       "0.666667    1208\n",
       "            ... \n",
       "0.105263       1\n",
       "0.866667       1\n",
       "0.950000       1\n",
       "0.157895       1\n",
       "0.916667       1\n",
       "Name: count, Length: 80, dtype: int64"
      ]
     },
     "execution_count": 6,
     "metadata": {},
     "output_type": "execute_result"
    }
   ],
   "source": [
    "df.knowledge_noun_match.value_counts()"
   ]
  },
  {
   "cell_type": "code",
   "execution_count": 7,
   "metadata": {},
   "outputs": [
    {
     "data": {
      "text/plain": [
       "knowledge_adj_match\n",
       "1.000000    10234\n",
       "0.000000     3885\n",
       "0.500000     1918\n",
       "0.666667      887\n",
       "0.333333      577\n",
       "0.750000      312\n",
       "0.250000      159\n",
       "0.800000      106\n",
       "0.600000       89\n",
       "0.400000       59\n",
       "0.200000       45\n",
       "0.833333       33\n",
       "0.714286       12\n",
       "0.571429       10\n",
       "0.428571        6\n",
       "0.857143        6\n",
       "0.166667        4\n",
       "0.875000        3\n",
       "0.285714        3\n",
       "0.142857        3\n",
       "0.222222        1\n",
       "0.636364        1\n",
       "0.125000        1\n",
       "0.625000        1\n",
       "0.444444        1\n",
       "0.777778        1\n",
       "Name: count, dtype: int64"
      ]
     },
     "execution_count": 7,
     "metadata": {},
     "output_type": "execute_result"
    }
   ],
   "source": [
    "df.knowledge_adj_match.value_counts()"
   ]
  },
  {
   "cell_type": "code",
   "execution_count": 8,
   "metadata": {},
   "outputs": [],
   "source": [
    "df.to_csv('train_critic_match.csv', index=False)"
   ]
  },
  {
   "cell_type": "code",
   "execution_count": 9,
   "metadata": {},
   "outputs": [
    {
     "data": {
      "text/html": [
       "<div>\n",
       "<style scoped>\n",
       "    .dataframe tbody tr th:only-of-type {\n",
       "        vertical-align: middle;\n",
       "    }\n",
       "\n",
       "    .dataframe tbody tr th {\n",
       "        vertical-align: top;\n",
       "    }\n",
       "\n",
       "    .dataframe thead th {\n",
       "        text-align: right;\n",
       "    }\n",
       "</style>\n",
       "<table border=\"1\" class=\"dataframe\">\n",
       "  <thead>\n",
       "    <tr style=\"text-align: right;\">\n",
       "      <th></th>\n",
       "      <th>questions</th>\n",
       "      <th>answers</th>\n",
       "      <th>knowledge</th>\n",
       "      <th>hallucination</th>\n",
       "      <th>entailment</th>\n",
       "      <th>generic</th>\n",
       "      <th>uncooperative</th>\n",
       "      <th>question_noun_match</th>\n",
       "      <th>knowledge_noun_match</th>\n",
       "      <th>question_adj_match</th>\n",
       "      <th>knowledge_adj_match</th>\n",
       "    </tr>\n",
       "  </thead>\n",
       "  <tbody>\n",
       "    <tr>\n",
       "      <th>0</th>\n",
       "      <td>Can you imagine the world without internet acc...</td>\n",
       "      <td>No I could not! I couldn't imagine living when...</td>\n",
       "      <td>Internet access was once rare, but has grown r...</td>\n",
       "      <td>1</td>\n",
       "      <td>0</td>\n",
       "      <td>0</td>\n",
       "      <td>0</td>\n",
       "      <td>0.500000</td>\n",
       "      <td>0.500000</td>\n",
       "      <td>0.666667</td>\n",
       "      <td>0.666667</td>\n",
       "    </tr>\n",
       "    <tr>\n",
       "      <th>1</th>\n",
       "      <td>Can you imagine the world without internet acc...</td>\n",
       "      <td>It used to be restricted, but around 1995, the...</td>\n",
       "      <td>Use by a wider audience only came in 1995 when...</td>\n",
       "      <td>1</td>\n",
       "      <td>1</td>\n",
       "      <td>0</td>\n",
       "      <td>0</td>\n",
       "      <td>1.000000</td>\n",
       "      <td>0.000000</td>\n",
       "      <td>1.000000</td>\n",
       "      <td>0.000000</td>\n",
       "    </tr>\n",
       "    <tr>\n",
       "      <th>2</th>\n",
       "      <td>Can you imagine the world without internet acc...</td>\n",
       "      <td>Yes, it was developed from a government funded...</td>\n",
       "      <td>The Internet developed from the ARPANET, which...</td>\n",
       "      <td>1</td>\n",
       "      <td>1</td>\n",
       "      <td>0</td>\n",
       "      <td>0</td>\n",
       "      <td>0.857143</td>\n",
       "      <td>0.285714</td>\n",
       "      <td>1.000000</td>\n",
       "      <td>1.000000</td>\n",
       "    </tr>\n",
       "    <tr>\n",
       "      <th>3</th>\n",
       "      <td>Can you imagine the world without internet acc...</td>\n",
       "      <td>What is your favorite thing to do with interne...</td>\n",
       "      <td>Internet access is the ability of individuals ...</td>\n",
       "      <td>1</td>\n",
       "      <td>1</td>\n",
       "      <td>0</td>\n",
       "      <td>0</td>\n",
       "      <td>0.500000</td>\n",
       "      <td>0.625000</td>\n",
       "      <td>1.000000</td>\n",
       "      <td>1.000000</td>\n",
       "    </tr>\n",
       "    <tr>\n",
       "      <th>4</th>\n",
       "      <td>I am just finishing my university course and I...</td>\n",
       "      <td>Yes, I perform administrative duties as a phar...</td>\n",
       "      <td>They may also perform administrative duties in...</td>\n",
       "      <td>1</td>\n",
       "      <td>1</td>\n",
       "      <td>0</td>\n",
       "      <td>0</td>\n",
       "      <td>1.000000</td>\n",
       "      <td>0.666667</td>\n",
       "      <td>1.000000</td>\n",
       "      <td>0.000000</td>\n",
       "    </tr>\n",
       "    <tr>\n",
       "      <th>...</th>\n",
       "      <td>...</td>\n",
       "      <td>...</td>\n",
       "      <td>...</td>\n",
       "      <td>...</td>\n",
       "      <td>...</td>\n",
       "      <td>...</td>\n",
       "      <td>...</td>\n",
       "      <td>...</td>\n",
       "      <td>...</td>\n",
       "      <td>...</td>\n",
       "      <td>...</td>\n",
       "    </tr>\n",
       "    <tr>\n",
       "      <th>18352</th>\n",
       "      <td>I live on a farm with pigs!</td>\n",
       "      <td>That's pretty neat. Pig farming is raising and...</td>\n",
       "      <td>Pig farming is the raising and breeding of dom...</td>\n",
       "      <td>1</td>\n",
       "      <td>1</td>\n",
       "      <td>0</td>\n",
       "      <td>0</td>\n",
       "      <td>0.833333</td>\n",
       "      <td>0.333333</td>\n",
       "      <td>1.000000</td>\n",
       "      <td>1.000000</td>\n",
       "    </tr>\n",
       "    <tr>\n",
       "      <th>18353</th>\n",
       "      <td>I live on a farm with pigs! : Neat! So you rai...</td>\n",
       "      <td>Sounds like a great cycle. Pigs are farmed mos...</td>\n",
       "      <td>Pigs are farmed principally to be eaten (e.g.</td>\n",
       "      <td>1</td>\n",
       "      <td>1</td>\n",
       "      <td>0</td>\n",
       "      <td>0</td>\n",
       "      <td>1.000000</td>\n",
       "      <td>0.800000</td>\n",
       "      <td>1.000000</td>\n",
       "      <td>1.000000</td>\n",
       "    </tr>\n",
       "    <tr>\n",
       "      <th>18354</th>\n",
       "      <td>I live on a farm with pigs! : Neat! So you rai...</td>\n",
       "      <td>Historically farm pigs were kept in small numb...</td>\n",
       "      <td>Historically, farm pigs were kept in small num...</td>\n",
       "      <td>1</td>\n",
       "      <td>1</td>\n",
       "      <td>0</td>\n",
       "      <td>0</td>\n",
       "      <td>0.666667</td>\n",
       "      <td>0.166667</td>\n",
       "      <td>1.000000</td>\n",
       "      <td>0.000000</td>\n",
       "    </tr>\n",
       "    <tr>\n",
       "      <th>18355</th>\n",
       "      <td>I live on a farm with pigs! : Neat! So you rai...</td>\n",
       "      <td>Another use for pigs is to dispose of municipa...</td>\n",
       "      <td>Pigs have been farmed to dispose of municipal ...</td>\n",
       "      <td>1</td>\n",
       "      <td>1</td>\n",
       "      <td>0</td>\n",
       "      <td>0</td>\n",
       "      <td>0.750000</td>\n",
       "      <td>0.500000</td>\n",
       "      <td>1.000000</td>\n",
       "      <td>0.000000</td>\n",
       "    </tr>\n",
       "    <tr>\n",
       "      <th>18356</th>\n",
       "      <td>I live on a farm with pigs! : Neat! So you rai...</td>\n",
       "      <td>Creepy indeed. In developed nations commercial...</td>\n",
       "      <td>In developed nations, commercial farms house t...</td>\n",
       "      <td>1</td>\n",
       "      <td>1</td>\n",
       "      <td>0</td>\n",
       "      <td>0</td>\n",
       "      <td>0.750000</td>\n",
       "      <td>0.250000</td>\n",
       "      <td>1.000000</td>\n",
       "      <td>0.333333</td>\n",
       "    </tr>\n",
       "  </tbody>\n",
       "</table>\n",
       "<p>18357 rows × 11 columns</p>\n",
       "</div>"
      ],
      "text/plain": [
       "                                               questions   \n",
       "0      Can you imagine the world without internet acc...  \\\n",
       "1      Can you imagine the world without internet acc...   \n",
       "2      Can you imagine the world without internet acc...   \n",
       "3      Can you imagine the world without internet acc...   \n",
       "4      I am just finishing my university course and I...   \n",
       "...                                                  ...   \n",
       "18352                        I live on a farm with pigs!   \n",
       "18353  I live on a farm with pigs! : Neat! So you rai...   \n",
       "18354  I live on a farm with pigs! : Neat! So you rai...   \n",
       "18355  I live on a farm with pigs! : Neat! So you rai...   \n",
       "18356  I live on a farm with pigs! : Neat! So you rai...   \n",
       "\n",
       "                                                 answers   \n",
       "0      No I could not! I couldn't imagine living when...  \\\n",
       "1      It used to be restricted, but around 1995, the...   \n",
       "2      Yes, it was developed from a government funded...   \n",
       "3      What is your favorite thing to do with interne...   \n",
       "4      Yes, I perform administrative duties as a phar...   \n",
       "...                                                  ...   \n",
       "18352  That's pretty neat. Pig farming is raising and...   \n",
       "18353  Sounds like a great cycle. Pigs are farmed mos...   \n",
       "18354  Historically farm pigs were kept in small numb...   \n",
       "18355  Another use for pigs is to dispose of municipa...   \n",
       "18356  Creepy indeed. In developed nations commercial...   \n",
       "\n",
       "                                               knowledge  hallucination   \n",
       "0      Internet access was once rare, but has grown r...              1  \\\n",
       "1      Use by a wider audience only came in 1995 when...              1   \n",
       "2      The Internet developed from the ARPANET, which...              1   \n",
       "3      Internet access is the ability of individuals ...              1   \n",
       "4      They may also perform administrative duties in...              1   \n",
       "...                                                  ...            ...   \n",
       "18352  Pig farming is the raising and breeding of dom...              1   \n",
       "18353      Pigs are farmed principally to be eaten (e.g.              1   \n",
       "18354  Historically, farm pigs were kept in small num...              1   \n",
       "18355  Pigs have been farmed to dispose of municipal ...              1   \n",
       "18356  In developed nations, commercial farms house t...              1   \n",
       "\n",
       "       entailment  generic  uncooperative  question_noun_match   \n",
       "0               0        0              0             0.500000  \\\n",
       "1               1        0              0             1.000000   \n",
       "2               1        0              0             0.857143   \n",
       "3               1        0              0             0.500000   \n",
       "4               1        0              0             1.000000   \n",
       "...           ...      ...            ...                  ...   \n",
       "18352           1        0              0             0.833333   \n",
       "18353           1        0              0             1.000000   \n",
       "18354           1        0              0             0.666667   \n",
       "18355           1        0              0             0.750000   \n",
       "18356           1        0              0             0.750000   \n",
       "\n",
       "       knowledge_noun_match  question_adj_match  knowledge_adj_match  \n",
       "0                  0.500000            0.666667             0.666667  \n",
       "1                  0.000000            1.000000             0.000000  \n",
       "2                  0.285714            1.000000             1.000000  \n",
       "3                  0.625000            1.000000             1.000000  \n",
       "4                  0.666667            1.000000             0.000000  \n",
       "...                     ...                 ...                  ...  \n",
       "18352              0.333333            1.000000             1.000000  \n",
       "18353              0.800000            1.000000             1.000000  \n",
       "18354              0.166667            1.000000             0.000000  \n",
       "18355              0.500000            1.000000             0.000000  \n",
       "18356              0.250000            1.000000             0.333333  \n",
       "\n",
       "[18357 rows x 11 columns]"
      ]
     },
     "execution_count": 9,
     "metadata": {},
     "output_type": "execute_result"
    }
   ],
   "source": [
    "df = pd.read_csv('train_critic_match.csv')\n",
    "df"
   ]
  },
  {
   "attachments": {},
   "cell_type": "markdown",
   "metadata": {},
   "source": [
    "####  Dataset for VRM"
   ]
  },
  {
   "cell_type": "code",
   "execution_count": null,
   "metadata": {},
   "outputs": [
    {
     "data": {
      "text/html": [
       "<div>\n",
       "<style scoped>\n",
       "    .dataframe tbody tr th:only-of-type {\n",
       "        vertical-align: middle;\n",
       "    }\n",
       "\n",
       "    .dataframe tbody tr th {\n",
       "        vertical-align: top;\n",
       "    }\n",
       "\n",
       "    .dataframe thead th {\n",
       "        text-align: right;\n",
       "    }\n",
       "</style>\n",
       "<table border=\"1\" class=\"dataframe\">\n",
       "  <thead>\n",
       "    <tr style=\"text-align: right;\">\n",
       "      <th></th>\n",
       "      <th>responses</th>\n",
       "      <th>VRM</th>\n",
       "    </tr>\n",
       "  </thead>\n",
       "  <tbody>\n",
       "    <tr>\n",
       "      <th>0</th>\n",
       "      <td>No I could not! I couldn't imagine living when...</td>\n",
       "      <td>[Disclosure, Ack.]</td>\n",
       "    </tr>\n",
       "    <tr>\n",
       "      <th>1</th>\n",
       "      <td>It used to be restricted, but around 1995, the...</td>\n",
       "      <td>[Edification]</td>\n",
       "    </tr>\n",
       "    <tr>\n",
       "      <th>2</th>\n",
       "      <td>Yes, it was developed from a government funded...</td>\n",
       "      <td>[Disclosure, Ack.]</td>\n",
       "    </tr>\n",
       "    <tr>\n",
       "      <th>3</th>\n",
       "      <td>What is your favorite thing to do with interne...</td>\n",
       "      <td>[Disclosure, Question]</td>\n",
       "    </tr>\n",
       "    <tr>\n",
       "      <th>4</th>\n",
       "      <td>Yes, I perform administrative duties as a phar...</td>\n",
       "      <td>[Disclosure, Ack.]</td>\n",
       "    </tr>\n",
       "    <tr>\n",
       "      <th>...</th>\n",
       "      <td>...</td>\n",
       "      <td>...</td>\n",
       "    </tr>\n",
       "    <tr>\n",
       "      <th>18352</th>\n",
       "      <td>That's pretty neat. Pig farming is raising and...</td>\n",
       "      <td>[Disclosure, Ack.]</td>\n",
       "    </tr>\n",
       "    <tr>\n",
       "      <th>18353</th>\n",
       "      <td>Sounds like a great cycle. Pigs are farmed mos...</td>\n",
       "      <td>[Disclosure]</td>\n",
       "    </tr>\n",
       "    <tr>\n",
       "      <th>18354</th>\n",
       "      <td>Historically farm pigs were kept in small numb...</td>\n",
       "      <td>[Disclosure]</td>\n",
       "    </tr>\n",
       "    <tr>\n",
       "      <th>18355</th>\n",
       "      <td>Another use for pigs is to dispose of municipa...</td>\n",
       "      <td>[Disclosure]</td>\n",
       "    </tr>\n",
       "    <tr>\n",
       "      <th>18356</th>\n",
       "      <td>Creepy indeed. In developed nations commercial...</td>\n",
       "      <td>[Disclosure, Ack.]</td>\n",
       "    </tr>\n",
       "  </tbody>\n",
       "</table>\n",
       "<p>18357 rows × 2 columns</p>\n",
       "</div>"
      ],
      "text/plain": [
       "                                               responses  \\\n",
       "0      No I could not! I couldn't imagine living when...   \n",
       "1      It used to be restricted, but around 1995, the...   \n",
       "2      Yes, it was developed from a government funded...   \n",
       "3      What is your favorite thing to do with interne...   \n",
       "4      Yes, I perform administrative duties as a phar...   \n",
       "...                                                  ...   \n",
       "18352  That's pretty neat. Pig farming is raising and...   \n",
       "18353  Sounds like a great cycle. Pigs are farmed mos...   \n",
       "18354  Historically farm pigs were kept in small numb...   \n",
       "18355  Another use for pigs is to dispose of municipa...   \n",
       "18356  Creepy indeed. In developed nations commercial...   \n",
       "\n",
       "                          VRM  \n",
       "0          [Disclosure, Ack.]  \n",
       "1               [Edification]  \n",
       "2          [Disclosure, Ack.]  \n",
       "3      [Disclosure, Question]  \n",
       "4          [Disclosure, Ack.]  \n",
       "...                       ...  \n",
       "18352      [Disclosure, Ack.]  \n",
       "18353            [Disclosure]  \n",
       "18354            [Disclosure]  \n",
       "18355            [Disclosure]  \n",
       "18356      [Disclosure, Ack.]  \n",
       "\n",
       "[18357 rows x 2 columns]"
      ]
     },
     "execution_count": 53,
     "metadata": {},
     "output_type": "execute_result"
    }
   ],
   "source": [
    "import json\n",
    "responses, vrm = [], []\n",
    "with open('train.json') as data:\n",
    "    data = json.load(data)\n",
    "for d in data:\n",
    "   utterances = d['utterances']\n",
    "   for utterance in utterances:\n",
    "      response = utterance['original_response']\n",
    "      responses.append(response)\n",
    "      vrm.append(utterance['VRM'])\n",
    "    \n",
    "data = pd.DataFrame({'responses': responses, 'VRM': vrm})\n",
    "data"
   ]
  },
  {
   "cell_type": "code",
   "execution_count": null,
   "metadata": {},
   "outputs": [],
   "source": [
    "data.to_csv('train_vrm.csv', index=False)"
   ]
  },
  {
   "cell_type": "code",
   "execution_count": 11,
   "metadata": {},
   "outputs": [],
   "source": [
    "from nltk.tokenize import word_tokenize\n",
    "import json\n",
    "from nltk.corpus import stopwords\n",
    "from nltk.tokenize import word_tokenize\n",
    "import numpy as np\n",
    "import pandas as pd"
   ]
  },
  {
   "cell_type": "code",
   "execution_count": 12,
   "metadata": {},
   "outputs": [
    {
     "data": {
      "text/plain": [
       "0"
      ]
     },
     "execution_count": 12,
     "metadata": {},
     "output_type": "execute_result"
    }
   ],
   "source": [
    "data = pd.read_csv('train_vrm.csv')\n",
    "data.dropna(inplace=True)\n",
    "cctext = np.array(data['responses'])\n",
    "ccinp = []\n",
    "li = []\n",
    "stop_words = set(stopwords.words('english'))  \n",
    "stop_words = list(stop_words) + [',', '(', ')', '“', '”', '.', '-', ':', '’', '~', '!', '`', '@', '#', '$', '%', '&', '*','+', '/', ';', '<', '>', '?', '[', ']', '{', '}', '_', 'I', 'Im', 'Ive', 'Its', 'im', 'IM']\n",
    "for i in cctext:\n",
    "  word_tokens = word_tokenize(i)\n",
    "  word_tokens = [w.lower() for w in word_tokens] \n",
    "  filtered_sentence = [w for w in word_tokens if not w.lower() in stop_words]\n",
    "  ccinp.append(' '.join(filtered_sentence))\n",
    "data.VRM.isna().sum()\n"
   ]
  },
  {
   "cell_type": "code",
   "execution_count": null,
   "metadata": {},
   "outputs": [],
   "source": [
    "import gensim\n",
    "import gensim.downloader as gensim_api"
   ]
  },
  {
   "attachments": {},
   "cell_type": "markdown",
   "metadata": {},
   "source": [
    "#### Creation of dataset using Word2Vec"
   ]
  },
  {
   "cell_type": "code",
   "execution_count": null,
   "metadata": {},
   "outputs": [
    {
     "name": "stderr",
     "output_type": "stream",
     "text": [
      "100%|██████████| 15624/15624 [00:01<00:00, 12719.91it/s]\n"
     ]
    },
    {
     "data": {
      "text/html": [
       "<div>\n",
       "<style scoped>\n",
       "    .dataframe tbody tr th:only-of-type {\n",
       "        vertical-align: middle;\n",
       "    }\n",
       "\n",
       "    .dataframe tbody tr th {\n",
       "        vertical-align: top;\n",
       "    }\n",
       "\n",
       "    .dataframe thead th {\n",
       "        text-align: right;\n",
       "    }\n",
       "</style>\n",
       "<table border=\"1\" class=\"dataframe\">\n",
       "  <thead>\n",
       "    <tr style=\"text-align: right;\">\n",
       "      <th></th>\n",
       "      <th>0</th>\n",
       "      <th>1</th>\n",
       "      <th>2</th>\n",
       "      <th>3</th>\n",
       "      <th>4</th>\n",
       "      <th>5</th>\n",
       "      <th>6</th>\n",
       "      <th>7</th>\n",
       "      <th>8</th>\n",
       "      <th>9</th>\n",
       "      <th>...</th>\n",
       "      <th>191</th>\n",
       "      <th>192</th>\n",
       "      <th>193</th>\n",
       "      <th>194</th>\n",
       "      <th>195</th>\n",
       "      <th>196</th>\n",
       "      <th>197</th>\n",
       "      <th>198</th>\n",
       "      <th>199</th>\n",
       "      <th>Class</th>\n",
       "    </tr>\n",
       "  </thead>\n",
       "  <tbody>\n",
       "    <tr>\n",
       "      <th>0</th>\n",
       "      <td>0.462443</td>\n",
       "      <td>-0.648214</td>\n",
       "      <td>-0.204216</td>\n",
       "      <td>-0.750656</td>\n",
       "      <td>-0.161676</td>\n",
       "      <td>0.441363</td>\n",
       "      <td>0.975576</td>\n",
       "      <td>-0.129727</td>\n",
       "      <td>0.859047</td>\n",
       "      <td>0.010340</td>\n",
       "      <td>...</td>\n",
       "      <td>-0.047387</td>\n",
       "      <td>0.045734</td>\n",
       "      <td>0.758852</td>\n",
       "      <td>0.014101</td>\n",
       "      <td>-0.286791</td>\n",
       "      <td>-0.949250</td>\n",
       "      <td>1.614293</td>\n",
       "      <td>0.587406</td>\n",
       "      <td>0.526198</td>\n",
       "      <td>['Disclosure', 'Ack.']</td>\n",
       "    </tr>\n",
       "    <tr>\n",
       "      <th>1</th>\n",
       "      <td>-0.892674</td>\n",
       "      <td>0.397247</td>\n",
       "      <td>1.712281</td>\n",
       "      <td>-0.266441</td>\n",
       "      <td>0.546694</td>\n",
       "      <td>-1.177927</td>\n",
       "      <td>-1.798441</td>\n",
       "      <td>-0.996260</td>\n",
       "      <td>0.472980</td>\n",
       "      <td>0.130272</td>\n",
       "      <td>...</td>\n",
       "      <td>-1.214490</td>\n",
       "      <td>-1.464557</td>\n",
       "      <td>-2.065165</td>\n",
       "      <td>-0.145099</td>\n",
       "      <td>-1.352880</td>\n",
       "      <td>0.694834</td>\n",
       "      <td>0.571474</td>\n",
       "      <td>-1.166704</td>\n",
       "      <td>-2.419448</td>\n",
       "      <td>['Edification']</td>\n",
       "    </tr>\n",
       "    <tr>\n",
       "      <th>2</th>\n",
       "      <td>-2.024475</td>\n",
       "      <td>0.167198</td>\n",
       "      <td>0.210629</td>\n",
       "      <td>0.162576</td>\n",
       "      <td>0.171703</td>\n",
       "      <td>-0.497342</td>\n",
       "      <td>-0.736159</td>\n",
       "      <td>0.495584</td>\n",
       "      <td>-0.666258</td>\n",
       "      <td>-1.519241</td>\n",
       "      <td>...</td>\n",
       "      <td>-0.465195</td>\n",
       "      <td>0.303929</td>\n",
       "      <td>0.251058</td>\n",
       "      <td>-1.399697</td>\n",
       "      <td>-1.579557</td>\n",
       "      <td>-1.470001</td>\n",
       "      <td>0.180500</td>\n",
       "      <td>-0.207395</td>\n",
       "      <td>-0.043401</td>\n",
       "      <td>['Disclosure', 'Ack.']</td>\n",
       "    </tr>\n",
       "    <tr>\n",
       "      <th>3</th>\n",
       "      <td>-0.111489</td>\n",
       "      <td>-0.591906</td>\n",
       "      <td>0.654217</td>\n",
       "      <td>-0.737723</td>\n",
       "      <td>-0.427298</td>\n",
       "      <td>-0.874863</td>\n",
       "      <td>-0.801317</td>\n",
       "      <td>-0.706366</td>\n",
       "      <td>0.244655</td>\n",
       "      <td>0.385328</td>\n",
       "      <td>...</td>\n",
       "      <td>-0.082242</td>\n",
       "      <td>0.640483</td>\n",
       "      <td>0.497839</td>\n",
       "      <td>-0.236869</td>\n",
       "      <td>-0.042228</td>\n",
       "      <td>-0.260964</td>\n",
       "      <td>0.296474</td>\n",
       "      <td>0.239225</td>\n",
       "      <td>0.320878</td>\n",
       "      <td>['Disclosure', 'Question']</td>\n",
       "    </tr>\n",
       "    <tr>\n",
       "      <th>4</th>\n",
       "      <td>0.633736</td>\n",
       "      <td>1.044750</td>\n",
       "      <td>0.613459</td>\n",
       "      <td>-0.842709</td>\n",
       "      <td>-1.041950</td>\n",
       "      <td>0.775464</td>\n",
       "      <td>0.768036</td>\n",
       "      <td>-1.894932</td>\n",
       "      <td>0.167199</td>\n",
       "      <td>1.234591</td>\n",
       "      <td>...</td>\n",
       "      <td>-1.156955</td>\n",
       "      <td>-0.481076</td>\n",
       "      <td>-0.189782</td>\n",
       "      <td>-0.624061</td>\n",
       "      <td>-1.174468</td>\n",
       "      <td>-0.849011</td>\n",
       "      <td>0.787156</td>\n",
       "      <td>-0.034736</td>\n",
       "      <td>0.219846</td>\n",
       "      <td>['Disclosure', 'Ack.']</td>\n",
       "    </tr>\n",
       "    <tr>\n",
       "      <th>...</th>\n",
       "      <td>...</td>\n",
       "      <td>...</td>\n",
       "      <td>...</td>\n",
       "      <td>...</td>\n",
       "      <td>...</td>\n",
       "      <td>...</td>\n",
       "      <td>...</td>\n",
       "      <td>...</td>\n",
       "      <td>...</td>\n",
       "      <td>...</td>\n",
       "      <td>...</td>\n",
       "      <td>...</td>\n",
       "      <td>...</td>\n",
       "      <td>...</td>\n",
       "      <td>...</td>\n",
       "      <td>...</td>\n",
       "      <td>...</td>\n",
       "      <td>...</td>\n",
       "      <td>...</td>\n",
       "      <td>...</td>\n",
       "      <td>...</td>\n",
       "    </tr>\n",
       "    <tr>\n",
       "      <th>15619</th>\n",
       "      <td>1.344859</td>\n",
       "      <td>0.945527</td>\n",
       "      <td>-0.178848</td>\n",
       "      <td>-1.213570</td>\n",
       "      <td>-0.283548</td>\n",
       "      <td>0.168942</td>\n",
       "      <td>0.706152</td>\n",
       "      <td>-0.988840</td>\n",
       "      <td>0.883456</td>\n",
       "      <td>-0.504044</td>\n",
       "      <td>...</td>\n",
       "      <td>0.710630</td>\n",
       "      <td>0.095534</td>\n",
       "      <td>1.291899</td>\n",
       "      <td>0.734682</td>\n",
       "      <td>0.332472</td>\n",
       "      <td>-0.612829</td>\n",
       "      <td>0.933633</td>\n",
       "      <td>1.181174</td>\n",
       "      <td>1.364087</td>\n",
       "      <td>['Disclosure', 'Ack.']</td>\n",
       "    </tr>\n",
       "    <tr>\n",
       "      <th>15620</th>\n",
       "      <td>0.219868</td>\n",
       "      <td>0.290521</td>\n",
       "      <td>0.793351</td>\n",
       "      <td>-0.589632</td>\n",
       "      <td>-0.472196</td>\n",
       "      <td>-1.328954</td>\n",
       "      <td>-1.360351</td>\n",
       "      <td>-0.396865</td>\n",
       "      <td>0.687022</td>\n",
       "      <td>-0.564925</td>\n",
       "      <td>...</td>\n",
       "      <td>-0.147550</td>\n",
       "      <td>0.321806</td>\n",
       "      <td>0.266557</td>\n",
       "      <td>-0.487287</td>\n",
       "      <td>-0.487561</td>\n",
       "      <td>0.494551</td>\n",
       "      <td>0.481173</td>\n",
       "      <td>0.297513</td>\n",
       "      <td>-0.163041</td>\n",
       "      <td>['Ack.', 'Edification']</td>\n",
       "    </tr>\n",
       "    <tr>\n",
       "      <th>15621</th>\n",
       "      <td>1.020780</td>\n",
       "      <td>0.222036</td>\n",
       "      <td>0.176755</td>\n",
       "      <td>-0.625057</td>\n",
       "      <td>-0.457251</td>\n",
       "      <td>-0.973826</td>\n",
       "      <td>-0.636060</td>\n",
       "      <td>-0.610962</td>\n",
       "      <td>0.393407</td>\n",
       "      <td>0.249726</td>\n",
       "      <td>...</td>\n",
       "      <td>-0.182051</td>\n",
       "      <td>0.201971</td>\n",
       "      <td>0.210465</td>\n",
       "      <td>-0.160972</td>\n",
       "      <td>-0.306232</td>\n",
       "      <td>0.847575</td>\n",
       "      <td>0.126749</td>\n",
       "      <td>0.836687</td>\n",
       "      <td>0.656529</td>\n",
       "      <td>['Ack.', 'Edification']</td>\n",
       "    </tr>\n",
       "    <tr>\n",
       "      <th>15622</th>\n",
       "      <td>1.026205</td>\n",
       "      <td>0.219393</td>\n",
       "      <td>-0.498888</td>\n",
       "      <td>0.095780</td>\n",
       "      <td>-0.582338</td>\n",
       "      <td>-0.244453</td>\n",
       "      <td>0.288778</td>\n",
       "      <td>0.181844</td>\n",
       "      <td>-0.002423</td>\n",
       "      <td>-0.447784</td>\n",
       "      <td>...</td>\n",
       "      <td>0.708287</td>\n",
       "      <td>0.203562</td>\n",
       "      <td>0.661308</td>\n",
       "      <td>0.046254</td>\n",
       "      <td>0.723221</td>\n",
       "      <td>0.254110</td>\n",
       "      <td>-0.191085</td>\n",
       "      <td>1.127961</td>\n",
       "      <td>0.987329</td>\n",
       "      <td>['Ack.']</td>\n",
       "    </tr>\n",
       "    <tr>\n",
       "      <th>15623</th>\n",
       "      <td>0.047618</td>\n",
       "      <td>-0.201987</td>\n",
       "      <td>0.017452</td>\n",
       "      <td>0.385239</td>\n",
       "      <td>-0.261925</td>\n",
       "      <td>-0.204268</td>\n",
       "      <td>-0.065310</td>\n",
       "      <td>-0.080510</td>\n",
       "      <td>-0.290408</td>\n",
       "      <td>0.498712</td>\n",
       "      <td>...</td>\n",
       "      <td>-0.688945</td>\n",
       "      <td>-0.040412</td>\n",
       "      <td>-0.136533</td>\n",
       "      <td>-0.477569</td>\n",
       "      <td>-0.411462</td>\n",
       "      <td>-0.314406</td>\n",
       "      <td>0.346568</td>\n",
       "      <td>-0.347134</td>\n",
       "      <td>-0.395105</td>\n",
       "      <td>['Disclosure', 'Ack.']</td>\n",
       "    </tr>\n",
       "  </tbody>\n",
       "</table>\n",
       "<p>15624 rows × 201 columns</p>\n",
       "</div>"
      ],
      "text/plain": [
       "              0         1         2         3         4         5         6  \\\n",
       "0      0.462443 -0.648214 -0.204216 -0.750656 -0.161676  0.441363  0.975576   \n",
       "1     -0.892674  0.397247  1.712281 -0.266441  0.546694 -1.177927 -1.798441   \n",
       "2     -2.024475  0.167198  0.210629  0.162576  0.171703 -0.497342 -0.736159   \n",
       "3     -0.111489 -0.591906  0.654217 -0.737723 -0.427298 -0.874863 -0.801317   \n",
       "4      0.633736  1.044750  0.613459 -0.842709 -1.041950  0.775464  0.768036   \n",
       "...         ...       ...       ...       ...       ...       ...       ...   \n",
       "15619  1.344859  0.945527 -0.178848 -1.213570 -0.283548  0.168942  0.706152   \n",
       "15620  0.219868  0.290521  0.793351 -0.589632 -0.472196 -1.328954 -1.360351   \n",
       "15621  1.020780  0.222036  0.176755 -0.625057 -0.457251 -0.973826 -0.636060   \n",
       "15622  1.026205  0.219393 -0.498888  0.095780 -0.582338 -0.244453  0.288778   \n",
       "15623  0.047618 -0.201987  0.017452  0.385239 -0.261925 -0.204268 -0.065310   \n",
       "\n",
       "              7         8         9  ...       191       192       193  \\\n",
       "0     -0.129727  0.859047  0.010340  ... -0.047387  0.045734  0.758852   \n",
       "1     -0.996260  0.472980  0.130272  ... -1.214490 -1.464557 -2.065165   \n",
       "2      0.495584 -0.666258 -1.519241  ... -0.465195  0.303929  0.251058   \n",
       "3     -0.706366  0.244655  0.385328  ... -0.082242  0.640483  0.497839   \n",
       "4     -1.894932  0.167199  1.234591  ... -1.156955 -0.481076 -0.189782   \n",
       "...         ...       ...       ...  ...       ...       ...       ...   \n",
       "15619 -0.988840  0.883456 -0.504044  ...  0.710630  0.095534  1.291899   \n",
       "15620 -0.396865  0.687022 -0.564925  ... -0.147550  0.321806  0.266557   \n",
       "15621 -0.610962  0.393407  0.249726  ... -0.182051  0.201971  0.210465   \n",
       "15622  0.181844 -0.002423 -0.447784  ...  0.708287  0.203562  0.661308   \n",
       "15623 -0.080510 -0.290408  0.498712  ... -0.688945 -0.040412 -0.136533   \n",
       "\n",
       "            194       195       196       197       198       199  \\\n",
       "0      0.014101 -0.286791 -0.949250  1.614293  0.587406  0.526198   \n",
       "1     -0.145099 -1.352880  0.694834  0.571474 -1.166704 -2.419448   \n",
       "2     -1.399697 -1.579557 -1.470001  0.180500 -0.207395 -0.043401   \n",
       "3     -0.236869 -0.042228 -0.260964  0.296474  0.239225  0.320878   \n",
       "4     -0.624061 -1.174468 -0.849011  0.787156 -0.034736  0.219846   \n",
       "...         ...       ...       ...       ...       ...       ...   \n",
       "15619  0.734682  0.332472 -0.612829  0.933633  1.181174  1.364087   \n",
       "15620 -0.487287 -0.487561  0.494551  0.481173  0.297513 -0.163041   \n",
       "15621 -0.160972 -0.306232  0.847575  0.126749  0.836687  0.656529   \n",
       "15622  0.046254  0.723221  0.254110 -0.191085  1.127961  0.987329   \n",
       "15623 -0.477569 -0.411462 -0.314406  0.346568 -0.347134 -0.395105   \n",
       "\n",
       "                            Class  \n",
       "0          ['Disclosure', 'Ack.']  \n",
       "1                 ['Edification']  \n",
       "2          ['Disclosure', 'Ack.']  \n",
       "3      ['Disclosure', 'Question']  \n",
       "4          ['Disclosure', 'Ack.']  \n",
       "...                           ...  \n",
       "15619      ['Disclosure', 'Ack.']  \n",
       "15620     ['Ack.', 'Edification']  \n",
       "15621     ['Ack.', 'Edification']  \n",
       "15622                    ['Ack.']  \n",
       "15623      ['Disclosure', 'Ack.']  \n",
       "\n",
       "[15624 rows x 201 columns]"
      ]
     },
     "execution_count": 85,
     "metadata": {},
     "output_type": "execute_result"
    }
   ],
   "source": [
    "from tqdm import tqdm\n",
    "import numpy as np\n",
    "from sklearn.preprocessing import StandardScaler\n",
    "import pandas as pd\n",
    "nlp = gensim.models.word2vec.Word2Vec(ccinp, vector_size=200, window=8, min_count=1, sg=1)\n",
    "w2v_words_cc=list(nlp.wv.index_to_key)\n",
    "listof_sent_vec_cc=[]\n",
    "#tqdm is for improving speed and making progressbar\n",
    "for sent in tqdm(ccinp): \n",
    "    sent_vec = np.zeros(200) \n",
    "    cnt_words =0; \n",
    "    for word in sent: \n",
    "        if word in w2v_words_cc:\n",
    "            vec = nlp.wv[word]\n",
    "            sent_vec += vec\n",
    "            cnt_words += 1\n",
    "    if cnt_words != 0:\n",
    "        sent_vec /= cnt_words\n",
    "    listof_sent_vec_cc.append(sent_vec)\n",
    "# Label = [0 for i in range]\n",
    "list_col=tuple(range(200))\n",
    "Scaler = StandardScaler()\n",
    "train_vec = Scaler.fit_transform(listof_sent_vec_cc)\n",
    "W2v_data=pd.DataFrame(data=train_vec, columns=list_col)\n",
    "W2v_data\n",
    "Label = data.VRM\n",
    "W2v_data['Class'] = Label\n",
    "W2v_data"
   ]
  },
  {
   "cell_type": "code",
   "execution_count": null,
   "metadata": {},
   "outputs": [
    {
     "name": "stdout",
     "output_type": "stream",
     "text": [
      "Disclosure\n",
      "Edification\n",
      "Question\n",
      "Ack.\n",
      "Advisement\n"
     ]
    },
    {
     "data": {
      "text/plain": [
       "0              0\n",
       "1              0\n",
       "2              0\n",
       "3              0\n",
       "4              0\n",
       "              ..\n",
       "Disclosure     0\n",
       "Edification    0\n",
       "Question       0\n",
       "Ack.           0\n",
       "Advisement     0\n",
       "Length: 206, dtype: int64"
      ]
     },
     "execution_count": 86,
     "metadata": {},
     "output_type": "execute_result"
    }
   ],
   "source": [
    "classes = ['Disclosure', 'Edification', 'Question', 'Ack.', 'Advisement']\n",
    "# classes = set()\n",
    "# for classes in W2v_data.Class:\n",
    "#     for itr in classes:\n",
    "#         if itr in classes:\n",
    "#             continue\n",
    "#         classes.add(itr)\n",
    "# classes\n",
    "W2v_data.dropna(inplace=True)\n",
    "def getClassAttributes(row, attr):\n",
    "    label = row[\"Class\"]\n",
    "    # print(label)\n",
    "    try:\n",
    "        if attr in label:\n",
    "            row[attr] = 1\n",
    "        else:\n",
    "            row[attr] = 0\n",
    "        return row\n",
    "    except:\n",
    "        print(attr, label)\n",
    "\n",
    "for itr in classes:\n",
    "    print(itr)\n",
    "    W2v_data = W2v_data.apply(lambda row: getClassAttributes(row, itr), axis=1)\n",
    "W2v_data.isna().sum()\n"
   ]
  },
  {
   "attachments": {},
   "cell_type": "markdown",
   "metadata": {},
   "source": [
    "#### Save dataset for VRM classification using word2vec vectors"
   ]
  },
  {
   "cell_type": "code",
   "execution_count": null,
   "metadata": {},
   "outputs": [],
   "source": [
    "W2v_data.to_csv('train_vrm_vectors.csv')"
   ]
  },
  {
   "cell_type": "code",
   "execution_count": null,
   "metadata": {},
   "outputs": [
    {
     "data": {
      "text/html": [
       "<div>\n",
       "<style scoped>\n",
       "    .dataframe tbody tr th:only-of-type {\n",
       "        vertical-align: middle;\n",
       "    }\n",
       "\n",
       "    .dataframe tbody tr th {\n",
       "        vertical-align: top;\n",
       "    }\n",
       "\n",
       "    .dataframe thead th {\n",
       "        text-align: right;\n",
       "    }\n",
       "</style>\n",
       "<table border=\"1\" class=\"dataframe\">\n",
       "  <thead>\n",
       "    <tr style=\"text-align: right;\">\n",
       "      <th></th>\n",
       "      <th>0</th>\n",
       "      <th>1</th>\n",
       "      <th>2</th>\n",
       "      <th>3</th>\n",
       "      <th>4</th>\n",
       "      <th>5</th>\n",
       "      <th>6</th>\n",
       "      <th>7</th>\n",
       "      <th>8</th>\n",
       "      <th>9</th>\n",
       "      <th>...</th>\n",
       "      <th>196</th>\n",
       "      <th>197</th>\n",
       "      <th>198</th>\n",
       "      <th>199</th>\n",
       "      <th>Class</th>\n",
       "      <th>Disclosure</th>\n",
       "      <th>Edification</th>\n",
       "      <th>Question</th>\n",
       "      <th>Ack.</th>\n",
       "      <th>Advisement</th>\n",
       "    </tr>\n",
       "  </thead>\n",
       "  <tbody>\n",
       "    <tr>\n",
       "      <th>0</th>\n",
       "      <td>0.462443</td>\n",
       "      <td>-0.648214</td>\n",
       "      <td>-0.204216</td>\n",
       "      <td>-0.750656</td>\n",
       "      <td>-0.161676</td>\n",
       "      <td>0.441363</td>\n",
       "      <td>0.975576</td>\n",
       "      <td>-0.129727</td>\n",
       "      <td>0.859047</td>\n",
       "      <td>0.010340</td>\n",
       "      <td>...</td>\n",
       "      <td>-0.949250</td>\n",
       "      <td>1.614293</td>\n",
       "      <td>0.587406</td>\n",
       "      <td>0.526198</td>\n",
       "      <td>['Disclosure', 'Ack.']</td>\n",
       "      <td>1</td>\n",
       "      <td>0</td>\n",
       "      <td>0</td>\n",
       "      <td>1</td>\n",
       "      <td>0</td>\n",
       "    </tr>\n",
       "    <tr>\n",
       "      <th>1</th>\n",
       "      <td>-0.892674</td>\n",
       "      <td>0.397247</td>\n",
       "      <td>1.712281</td>\n",
       "      <td>-0.266441</td>\n",
       "      <td>0.546694</td>\n",
       "      <td>-1.177927</td>\n",
       "      <td>-1.798441</td>\n",
       "      <td>-0.996260</td>\n",
       "      <td>0.472980</td>\n",
       "      <td>0.130272</td>\n",
       "      <td>...</td>\n",
       "      <td>0.694834</td>\n",
       "      <td>0.571474</td>\n",
       "      <td>-1.166704</td>\n",
       "      <td>-2.419448</td>\n",
       "      <td>['Edification']</td>\n",
       "      <td>0</td>\n",
       "      <td>1</td>\n",
       "      <td>0</td>\n",
       "      <td>0</td>\n",
       "      <td>0</td>\n",
       "    </tr>\n",
       "    <tr>\n",
       "      <th>2</th>\n",
       "      <td>-2.024475</td>\n",
       "      <td>0.167198</td>\n",
       "      <td>0.210629</td>\n",
       "      <td>0.162576</td>\n",
       "      <td>0.171703</td>\n",
       "      <td>-0.497342</td>\n",
       "      <td>-0.736159</td>\n",
       "      <td>0.495584</td>\n",
       "      <td>-0.666258</td>\n",
       "      <td>-1.519241</td>\n",
       "      <td>...</td>\n",
       "      <td>-1.470001</td>\n",
       "      <td>0.180500</td>\n",
       "      <td>-0.207395</td>\n",
       "      <td>-0.043401</td>\n",
       "      <td>['Disclosure', 'Ack.']</td>\n",
       "      <td>1</td>\n",
       "      <td>0</td>\n",
       "      <td>0</td>\n",
       "      <td>1</td>\n",
       "      <td>0</td>\n",
       "    </tr>\n",
       "    <tr>\n",
       "      <th>3</th>\n",
       "      <td>-0.111489</td>\n",
       "      <td>-0.591906</td>\n",
       "      <td>0.654217</td>\n",
       "      <td>-0.737723</td>\n",
       "      <td>-0.427298</td>\n",
       "      <td>-0.874863</td>\n",
       "      <td>-0.801317</td>\n",
       "      <td>-0.706366</td>\n",
       "      <td>0.244655</td>\n",
       "      <td>0.385328</td>\n",
       "      <td>...</td>\n",
       "      <td>-0.260964</td>\n",
       "      <td>0.296474</td>\n",
       "      <td>0.239225</td>\n",
       "      <td>0.320878</td>\n",
       "      <td>['Disclosure', 'Question']</td>\n",
       "      <td>1</td>\n",
       "      <td>0</td>\n",
       "      <td>1</td>\n",
       "      <td>0</td>\n",
       "      <td>0</td>\n",
       "    </tr>\n",
       "    <tr>\n",
       "      <th>4</th>\n",
       "      <td>0.633736</td>\n",
       "      <td>1.044750</td>\n",
       "      <td>0.613459</td>\n",
       "      <td>-0.842709</td>\n",
       "      <td>-1.041950</td>\n",
       "      <td>0.775464</td>\n",
       "      <td>0.768036</td>\n",
       "      <td>-1.894932</td>\n",
       "      <td>0.167199</td>\n",
       "      <td>1.234591</td>\n",
       "      <td>...</td>\n",
       "      <td>-0.849011</td>\n",
       "      <td>0.787156</td>\n",
       "      <td>-0.034736</td>\n",
       "      <td>0.219846</td>\n",
       "      <td>['Disclosure', 'Ack.']</td>\n",
       "      <td>1</td>\n",
       "      <td>0</td>\n",
       "      <td>0</td>\n",
       "      <td>1</td>\n",
       "      <td>0</td>\n",
       "    </tr>\n",
       "    <tr>\n",
       "      <th>...</th>\n",
       "      <td>...</td>\n",
       "      <td>...</td>\n",
       "      <td>...</td>\n",
       "      <td>...</td>\n",
       "      <td>...</td>\n",
       "      <td>...</td>\n",
       "      <td>...</td>\n",
       "      <td>...</td>\n",
       "      <td>...</td>\n",
       "      <td>...</td>\n",
       "      <td>...</td>\n",
       "      <td>...</td>\n",
       "      <td>...</td>\n",
       "      <td>...</td>\n",
       "      <td>...</td>\n",
       "      <td>...</td>\n",
       "      <td>...</td>\n",
       "      <td>...</td>\n",
       "      <td>...</td>\n",
       "      <td>...</td>\n",
       "      <td>...</td>\n",
       "    </tr>\n",
       "    <tr>\n",
       "      <th>15619</th>\n",
       "      <td>1.344859</td>\n",
       "      <td>0.945527</td>\n",
       "      <td>-0.178848</td>\n",
       "      <td>-1.213570</td>\n",
       "      <td>-0.283548</td>\n",
       "      <td>0.168942</td>\n",
       "      <td>0.706152</td>\n",
       "      <td>-0.988840</td>\n",
       "      <td>0.883456</td>\n",
       "      <td>-0.504044</td>\n",
       "      <td>...</td>\n",
       "      <td>-0.612829</td>\n",
       "      <td>0.933633</td>\n",
       "      <td>1.181174</td>\n",
       "      <td>1.364087</td>\n",
       "      <td>['Disclosure', 'Ack.']</td>\n",
       "      <td>1</td>\n",
       "      <td>0</td>\n",
       "      <td>0</td>\n",
       "      <td>1</td>\n",
       "      <td>0</td>\n",
       "    </tr>\n",
       "    <tr>\n",
       "      <th>15620</th>\n",
       "      <td>0.219868</td>\n",
       "      <td>0.290521</td>\n",
       "      <td>0.793351</td>\n",
       "      <td>-0.589632</td>\n",
       "      <td>-0.472196</td>\n",
       "      <td>-1.328954</td>\n",
       "      <td>-1.360351</td>\n",
       "      <td>-0.396865</td>\n",
       "      <td>0.687022</td>\n",
       "      <td>-0.564925</td>\n",
       "      <td>...</td>\n",
       "      <td>0.494551</td>\n",
       "      <td>0.481173</td>\n",
       "      <td>0.297513</td>\n",
       "      <td>-0.163041</td>\n",
       "      <td>['Ack.', 'Edification']</td>\n",
       "      <td>0</td>\n",
       "      <td>1</td>\n",
       "      <td>0</td>\n",
       "      <td>1</td>\n",
       "      <td>0</td>\n",
       "    </tr>\n",
       "    <tr>\n",
       "      <th>15621</th>\n",
       "      <td>1.020780</td>\n",
       "      <td>0.222036</td>\n",
       "      <td>0.176755</td>\n",
       "      <td>-0.625057</td>\n",
       "      <td>-0.457251</td>\n",
       "      <td>-0.973826</td>\n",
       "      <td>-0.636060</td>\n",
       "      <td>-0.610962</td>\n",
       "      <td>0.393407</td>\n",
       "      <td>0.249726</td>\n",
       "      <td>...</td>\n",
       "      <td>0.847575</td>\n",
       "      <td>0.126749</td>\n",
       "      <td>0.836687</td>\n",
       "      <td>0.656529</td>\n",
       "      <td>['Ack.', 'Edification']</td>\n",
       "      <td>0</td>\n",
       "      <td>1</td>\n",
       "      <td>0</td>\n",
       "      <td>1</td>\n",
       "      <td>0</td>\n",
       "    </tr>\n",
       "    <tr>\n",
       "      <th>15622</th>\n",
       "      <td>1.026205</td>\n",
       "      <td>0.219393</td>\n",
       "      <td>-0.498888</td>\n",
       "      <td>0.095780</td>\n",
       "      <td>-0.582338</td>\n",
       "      <td>-0.244453</td>\n",
       "      <td>0.288778</td>\n",
       "      <td>0.181844</td>\n",
       "      <td>-0.002423</td>\n",
       "      <td>-0.447784</td>\n",
       "      <td>...</td>\n",
       "      <td>0.254110</td>\n",
       "      <td>-0.191085</td>\n",
       "      <td>1.127961</td>\n",
       "      <td>0.987329</td>\n",
       "      <td>['Ack.']</td>\n",
       "      <td>0</td>\n",
       "      <td>0</td>\n",
       "      <td>0</td>\n",
       "      <td>1</td>\n",
       "      <td>0</td>\n",
       "    </tr>\n",
       "    <tr>\n",
       "      <th>15623</th>\n",
       "      <td>0.047618</td>\n",
       "      <td>-0.201987</td>\n",
       "      <td>0.017452</td>\n",
       "      <td>0.385239</td>\n",
       "      <td>-0.261925</td>\n",
       "      <td>-0.204268</td>\n",
       "      <td>-0.065310</td>\n",
       "      <td>-0.080510</td>\n",
       "      <td>-0.290408</td>\n",
       "      <td>0.498712</td>\n",
       "      <td>...</td>\n",
       "      <td>-0.314406</td>\n",
       "      <td>0.346568</td>\n",
       "      <td>-0.347134</td>\n",
       "      <td>-0.395105</td>\n",
       "      <td>['Disclosure', 'Ack.']</td>\n",
       "      <td>1</td>\n",
       "      <td>0</td>\n",
       "      <td>0</td>\n",
       "      <td>1</td>\n",
       "      <td>0</td>\n",
       "    </tr>\n",
       "  </tbody>\n",
       "</table>\n",
       "<p>13217 rows × 206 columns</p>\n",
       "</div>"
      ],
      "text/plain": [
       "              0         1         2         3         4         5         6  \\\n",
       "0      0.462443 -0.648214 -0.204216 -0.750656 -0.161676  0.441363  0.975576   \n",
       "1     -0.892674  0.397247  1.712281 -0.266441  0.546694 -1.177927 -1.798441   \n",
       "2     -2.024475  0.167198  0.210629  0.162576  0.171703 -0.497342 -0.736159   \n",
       "3     -0.111489 -0.591906  0.654217 -0.737723 -0.427298 -0.874863 -0.801317   \n",
       "4      0.633736  1.044750  0.613459 -0.842709 -1.041950  0.775464  0.768036   \n",
       "...         ...       ...       ...       ...       ...       ...       ...   \n",
       "15619  1.344859  0.945527 -0.178848 -1.213570 -0.283548  0.168942  0.706152   \n",
       "15620  0.219868  0.290521  0.793351 -0.589632 -0.472196 -1.328954 -1.360351   \n",
       "15621  1.020780  0.222036  0.176755 -0.625057 -0.457251 -0.973826 -0.636060   \n",
       "15622  1.026205  0.219393 -0.498888  0.095780 -0.582338 -0.244453  0.288778   \n",
       "15623  0.047618 -0.201987  0.017452  0.385239 -0.261925 -0.204268 -0.065310   \n",
       "\n",
       "              7         8         9  ...       196       197       198  \\\n",
       "0     -0.129727  0.859047  0.010340  ... -0.949250  1.614293  0.587406   \n",
       "1     -0.996260  0.472980  0.130272  ...  0.694834  0.571474 -1.166704   \n",
       "2      0.495584 -0.666258 -1.519241  ... -1.470001  0.180500 -0.207395   \n",
       "3     -0.706366  0.244655  0.385328  ... -0.260964  0.296474  0.239225   \n",
       "4     -1.894932  0.167199  1.234591  ... -0.849011  0.787156 -0.034736   \n",
       "...         ...       ...       ...  ...       ...       ...       ...   \n",
       "15619 -0.988840  0.883456 -0.504044  ... -0.612829  0.933633  1.181174   \n",
       "15620 -0.396865  0.687022 -0.564925  ...  0.494551  0.481173  0.297513   \n",
       "15621 -0.610962  0.393407  0.249726  ...  0.847575  0.126749  0.836687   \n",
       "15622  0.181844 -0.002423 -0.447784  ...  0.254110 -0.191085  1.127961   \n",
       "15623 -0.080510 -0.290408  0.498712  ... -0.314406  0.346568 -0.347134   \n",
       "\n",
       "            199                       Class  Disclosure  Edification  \\\n",
       "0      0.526198      ['Disclosure', 'Ack.']           1            0   \n",
       "1     -2.419448             ['Edification']           0            1   \n",
       "2     -0.043401      ['Disclosure', 'Ack.']           1            0   \n",
       "3      0.320878  ['Disclosure', 'Question']           1            0   \n",
       "4      0.219846      ['Disclosure', 'Ack.']           1            0   \n",
       "...         ...                         ...         ...          ...   \n",
       "15619  1.364087      ['Disclosure', 'Ack.']           1            0   \n",
       "15620 -0.163041     ['Ack.', 'Edification']           0            1   \n",
       "15621  0.656529     ['Ack.', 'Edification']           0            1   \n",
       "15622  0.987329                    ['Ack.']           0            0   \n",
       "15623 -0.395105      ['Disclosure', 'Ack.']           1            0   \n",
       "\n",
       "       Question  Ack.  Advisement  \n",
       "0             0     1           0  \n",
       "1             0     0           0  \n",
       "2             0     1           0  \n",
       "3             1     0           0  \n",
       "4             0     1           0  \n",
       "...         ...   ...         ...  \n",
       "15619         0     1           0  \n",
       "15620         0     1           0  \n",
       "15621         0     1           0  \n",
       "15622         0     1           0  \n",
       "15623         0     1           0  \n",
       "\n",
       "[13217 rows x 206 columns]"
      ]
     },
     "execution_count": 88,
     "metadata": {},
     "output_type": "execute_result"
    }
   ],
   "source": [
    "W2v_data"
   ]
  },
  {
   "cell_type": "code",
   "execution_count": null,
   "metadata": {},
   "outputs": [],
   "source": []
  },
  {
   "cell_type": "code",
   "execution_count": 13,
   "metadata": {},
   "outputs": [
    {
     "data": {
      "text/html": [
       "<div>\n",
       "<style scoped>\n",
       "    .dataframe tbody tr th:only-of-type {\n",
       "        vertical-align: middle;\n",
       "    }\n",
       "\n",
       "    .dataframe tbody tr th {\n",
       "        vertical-align: top;\n",
       "    }\n",
       "\n",
       "    .dataframe thead th {\n",
       "        text-align: right;\n",
       "    }\n",
       "</style>\n",
       "<table border=\"1\" class=\"dataframe\">\n",
       "  <thead>\n",
       "    <tr style=\"text-align: right;\">\n",
       "      <th></th>\n",
       "      <th>questions</th>\n",
       "      <th>answers</th>\n",
       "      <th>knowledge</th>\n",
       "      <th>hallucination</th>\n",
       "      <th>entailment</th>\n",
       "      <th>generic</th>\n",
       "      <th>uncooperative</th>\n",
       "      <th>question_noun_match</th>\n",
       "      <th>knowledge_noun_match</th>\n",
       "      <th>question_adj_match</th>\n",
       "      <th>knowledge_adj_match</th>\n",
       "    </tr>\n",
       "  </thead>\n",
       "  <tbody>\n",
       "    <tr>\n",
       "      <th>0</th>\n",
       "      <td>Can you imagine the world without internet acc...</td>\n",
       "      <td>No I could not! I couldn't imagine living when...</td>\n",
       "      <td>Internet access was once rare, but has grown r...</td>\n",
       "      <td>1</td>\n",
       "      <td>0</td>\n",
       "      <td>0</td>\n",
       "      <td>0</td>\n",
       "      <td>0.500000</td>\n",
       "      <td>0.500000</td>\n",
       "      <td>0.666667</td>\n",
       "      <td>0.666667</td>\n",
       "    </tr>\n",
       "    <tr>\n",
       "      <th>1</th>\n",
       "      <td>Can you imagine the world without internet acc...</td>\n",
       "      <td>It used to be restricted, but around 1995, the...</td>\n",
       "      <td>Use by a wider audience only came in 1995 when...</td>\n",
       "      <td>1</td>\n",
       "      <td>1</td>\n",
       "      <td>0</td>\n",
       "      <td>0</td>\n",
       "      <td>1.000000</td>\n",
       "      <td>0.000000</td>\n",
       "      <td>1.000000</td>\n",
       "      <td>0.000000</td>\n",
       "    </tr>\n",
       "    <tr>\n",
       "      <th>2</th>\n",
       "      <td>Can you imagine the world without internet acc...</td>\n",
       "      <td>Yes, it was developed from a government funded...</td>\n",
       "      <td>The Internet developed from the ARPANET, which...</td>\n",
       "      <td>1</td>\n",
       "      <td>1</td>\n",
       "      <td>0</td>\n",
       "      <td>0</td>\n",
       "      <td>0.857143</td>\n",
       "      <td>0.285714</td>\n",
       "      <td>1.000000</td>\n",
       "      <td>1.000000</td>\n",
       "    </tr>\n",
       "    <tr>\n",
       "      <th>3</th>\n",
       "      <td>Can you imagine the world without internet acc...</td>\n",
       "      <td>What is your favorite thing to do with interne...</td>\n",
       "      <td>Internet access is the ability of individuals ...</td>\n",
       "      <td>1</td>\n",
       "      <td>1</td>\n",
       "      <td>0</td>\n",
       "      <td>0</td>\n",
       "      <td>0.500000</td>\n",
       "      <td>0.625000</td>\n",
       "      <td>1.000000</td>\n",
       "      <td>1.000000</td>\n",
       "    </tr>\n",
       "    <tr>\n",
       "      <th>4</th>\n",
       "      <td>I am just finishing my university course and I...</td>\n",
       "      <td>Yes, I perform administrative duties as a phar...</td>\n",
       "      <td>They may also perform administrative duties in...</td>\n",
       "      <td>1</td>\n",
       "      <td>1</td>\n",
       "      <td>0</td>\n",
       "      <td>0</td>\n",
       "      <td>1.000000</td>\n",
       "      <td>0.666667</td>\n",
       "      <td>1.000000</td>\n",
       "      <td>0.000000</td>\n",
       "    </tr>\n",
       "  </tbody>\n",
       "</table>\n",
       "</div>"
      ],
      "text/plain": [
       "                                           questions   \n",
       "0  Can you imagine the world without internet acc...  \\\n",
       "1  Can you imagine the world without internet acc...   \n",
       "2  Can you imagine the world without internet acc...   \n",
       "3  Can you imagine the world without internet acc...   \n",
       "4  I am just finishing my university course and I...   \n",
       "\n",
       "                                             answers   \n",
       "0  No I could not! I couldn't imagine living when...  \\\n",
       "1  It used to be restricted, but around 1995, the...   \n",
       "2  Yes, it was developed from a government funded...   \n",
       "3  What is your favorite thing to do with interne...   \n",
       "4  Yes, I perform administrative duties as a phar...   \n",
       "\n",
       "                                           knowledge  hallucination   \n",
       "0  Internet access was once rare, but has grown r...              1  \\\n",
       "1  Use by a wider audience only came in 1995 when...              1   \n",
       "2  The Internet developed from the ARPANET, which...              1   \n",
       "3  Internet access is the ability of individuals ...              1   \n",
       "4  They may also perform administrative duties in...              1   \n",
       "\n",
       "   entailment  generic  uncooperative  question_noun_match   \n",
       "0           0        0              0             0.500000  \\\n",
       "1           1        0              0             1.000000   \n",
       "2           1        0              0             0.857143   \n",
       "3           1        0              0             0.500000   \n",
       "4           1        0              0             1.000000   \n",
       "\n",
       "   knowledge_noun_match  question_adj_match  knowledge_adj_match  \n",
       "0              0.500000            0.666667             0.666667  \n",
       "1              0.000000            1.000000             0.000000  \n",
       "2              0.285714            1.000000             1.000000  \n",
       "3              0.625000            1.000000             1.000000  \n",
       "4              0.666667            1.000000             0.000000  "
      ]
     },
     "execution_count": 13,
     "metadata": {},
     "output_type": "execute_result"
    }
   ],
   "source": [
    "data = pd.read_csv('train_critic_match.csv')\n",
    "data.head()"
   ]
  },
  {
   "attachments": {},
   "cell_type": "markdown",
   "metadata": {},
   "source": [
    "# BEGIN Classification"
   ]
  },
  {
   "attachments": {},
   "cell_type": "markdown",
   "metadata": {},
   "source": [
    "##### Model for Hallucination"
   ]
  },
  {
   "cell_type": "code",
   "execution_count": 14,
   "metadata": {},
   "outputs": [
    {
     "data": {
      "text/html": [
       "<style>#sk-container-id-1 {color: black;background-color: white;}#sk-container-id-1 pre{padding: 0;}#sk-container-id-1 div.sk-toggleable {background-color: white;}#sk-container-id-1 label.sk-toggleable__label {cursor: pointer;display: block;width: 100%;margin-bottom: 0;padding: 0.3em;box-sizing: border-box;text-align: center;}#sk-container-id-1 label.sk-toggleable__label-arrow:before {content: \"▸\";float: left;margin-right: 0.25em;color: #696969;}#sk-container-id-1 label.sk-toggleable__label-arrow:hover:before {color: black;}#sk-container-id-1 div.sk-estimator:hover label.sk-toggleable__label-arrow:before {color: black;}#sk-container-id-1 div.sk-toggleable__content {max-height: 0;max-width: 0;overflow: hidden;text-align: left;background-color: #f0f8ff;}#sk-container-id-1 div.sk-toggleable__content pre {margin: 0.2em;color: black;border-radius: 0.25em;background-color: #f0f8ff;}#sk-container-id-1 input.sk-toggleable__control:checked~div.sk-toggleable__content {max-height: 200px;max-width: 100%;overflow: auto;}#sk-container-id-1 input.sk-toggleable__control:checked~label.sk-toggleable__label-arrow:before {content: \"▾\";}#sk-container-id-1 div.sk-estimator input.sk-toggleable__control:checked~label.sk-toggleable__label {background-color: #d4ebff;}#sk-container-id-1 div.sk-label input.sk-toggleable__control:checked~label.sk-toggleable__label {background-color: #d4ebff;}#sk-container-id-1 input.sk-hidden--visually {border: 0;clip: rect(1px 1px 1px 1px);clip: rect(1px, 1px, 1px, 1px);height: 1px;margin: -1px;overflow: hidden;padding: 0;position: absolute;width: 1px;}#sk-container-id-1 div.sk-estimator {font-family: monospace;background-color: #f0f8ff;border: 1px dotted black;border-radius: 0.25em;box-sizing: border-box;margin-bottom: 0.5em;}#sk-container-id-1 div.sk-estimator:hover {background-color: #d4ebff;}#sk-container-id-1 div.sk-parallel-item::after {content: \"\";width: 100%;border-bottom: 1px solid gray;flex-grow: 1;}#sk-container-id-1 div.sk-label:hover label.sk-toggleable__label {background-color: #d4ebff;}#sk-container-id-1 div.sk-serial::before {content: \"\";position: absolute;border-left: 1px solid gray;box-sizing: border-box;top: 0;bottom: 0;left: 50%;z-index: 0;}#sk-container-id-1 div.sk-serial {display: flex;flex-direction: column;align-items: center;background-color: white;padding-right: 0.2em;padding-left: 0.2em;position: relative;}#sk-container-id-1 div.sk-item {position: relative;z-index: 1;}#sk-container-id-1 div.sk-parallel {display: flex;align-items: stretch;justify-content: center;background-color: white;position: relative;}#sk-container-id-1 div.sk-item::before, #sk-container-id-1 div.sk-parallel-item::before {content: \"\";position: absolute;border-left: 1px solid gray;box-sizing: border-box;top: 0;bottom: 0;left: 50%;z-index: -1;}#sk-container-id-1 div.sk-parallel-item {display: flex;flex-direction: column;z-index: 1;position: relative;background-color: white;}#sk-container-id-1 div.sk-parallel-item:first-child::after {align-self: flex-end;width: 50%;}#sk-container-id-1 div.sk-parallel-item:last-child::after {align-self: flex-start;width: 50%;}#sk-container-id-1 div.sk-parallel-item:only-child::after {width: 0;}#sk-container-id-1 div.sk-dashed-wrapped {border: 1px dashed gray;margin: 0 0.4em 0.5em 0.4em;box-sizing: border-box;padding-bottom: 0.4em;background-color: white;}#sk-container-id-1 div.sk-label label {font-family: monospace;font-weight: bold;display: inline-block;line-height: 1.2em;}#sk-container-id-1 div.sk-label-container {text-align: center;}#sk-container-id-1 div.sk-container {/* jupyter's `normalize.less` sets `[hidden] { display: none; }` but bootstrap.min.css set `[hidden] { display: none !important; }` so we also need the `!important` here to be able to override the default hidden behavior on the sphinx rendered scikit-learn.org. See: https://github.com/scikit-learn/scikit-learn/issues/21755 */display: inline-block !important;position: relative;}#sk-container-id-1 div.sk-text-repr-fallback {display: none;}</style><div id=\"sk-container-id-1\" class=\"sk-top-container\"><div class=\"sk-text-repr-fallback\"><pre>DecisionTreeClassifier()</pre><b>In a Jupyter environment, please rerun this cell to show the HTML representation or trust the notebook. <br />On GitHub, the HTML representation is unable to render, please try loading this page with nbviewer.org.</b></div><div class=\"sk-container\" hidden><div class=\"sk-item\"><div class=\"sk-estimator sk-toggleable\"><input class=\"sk-toggleable__control sk-hidden--visually\" id=\"sk-estimator-id-1\" type=\"checkbox\" checked><label for=\"sk-estimator-id-1\" class=\"sk-toggleable__label sk-toggleable__label-arrow\">DecisionTreeClassifier</label><div class=\"sk-toggleable__content\"><pre>DecisionTreeClassifier()</pre></div></div></div></div></div>"
      ],
      "text/plain": [
       "DecisionTreeClassifier()"
      ]
     },
     "execution_count": 14,
     "metadata": {},
     "output_type": "execute_result"
    }
   ],
   "source": [
    "from sklearn.tree import DecisionTreeClassifier\n",
    "from sklearn.model_selection import train_test_split\n",
    "X = data[['question_noun_match', 'knowledge_noun_match', 'question_adj_match', 'knowledge_adj_match']]\n",
    "y = data['hallucination']\n",
    "X_train, X_test, y_train, y_test = train_test_split(X, y, test_size = 0.25, random_state = 0)\n",
    "dtc_hallucination = DecisionTreeClassifier()\n",
    "dtc_hallucination.fit(X_train, y_train)"
   ]
  },
  {
   "cell_type": "code",
   "execution_count": 15,
   "metadata": {},
   "outputs": [
    {
     "data": {
      "text/plain": [
       "0.8352941176470589"
      ]
     },
     "execution_count": 15,
     "metadata": {},
     "output_type": "execute_result"
    }
   ],
   "source": [
    "y_pred = dtc_hallucination.predict(X_test)\n",
    "from sklearn.metrics import accuracy_score, confusion_matrix, f1_score\n",
    "accuracy_score(y_test, y_pred)"
   ]
  },
  {
   "cell_type": "code",
   "execution_count": 16,
   "metadata": {},
   "outputs": [
    {
     "data": {
      "text/plain": [
       "array([[ 713,  488],\n",
       "       [ 268, 3121]])"
      ]
     },
     "execution_count": 16,
     "metadata": {},
     "output_type": "execute_result"
    }
   ],
   "source": [
    "confusion_matrix(y_test, y_pred)"
   ]
  },
  {
   "cell_type": "code",
   "execution_count": 17,
   "metadata": {},
   "outputs": [
    {
     "data": {
      "text/plain": [
       "0.8919691340382967"
      ]
     },
     "execution_count": 17,
     "metadata": {},
     "output_type": "execute_result"
    }
   ],
   "source": [
    "f1_score(y_test, y_pred)"
   ]
  },
  {
   "attachments": {},
   "cell_type": "markdown",
   "metadata": {},
   "source": [
    "##### Model for Entailment"
   ]
  },
  {
   "cell_type": "code",
   "execution_count": 18,
   "metadata": {},
   "outputs": [
    {
     "data": {
      "text/html": [
       "<style>#sk-container-id-2 {color: black;background-color: white;}#sk-container-id-2 pre{padding: 0;}#sk-container-id-2 div.sk-toggleable {background-color: white;}#sk-container-id-2 label.sk-toggleable__label {cursor: pointer;display: block;width: 100%;margin-bottom: 0;padding: 0.3em;box-sizing: border-box;text-align: center;}#sk-container-id-2 label.sk-toggleable__label-arrow:before {content: \"▸\";float: left;margin-right: 0.25em;color: #696969;}#sk-container-id-2 label.sk-toggleable__label-arrow:hover:before {color: black;}#sk-container-id-2 div.sk-estimator:hover label.sk-toggleable__label-arrow:before {color: black;}#sk-container-id-2 div.sk-toggleable__content {max-height: 0;max-width: 0;overflow: hidden;text-align: left;background-color: #f0f8ff;}#sk-container-id-2 div.sk-toggleable__content pre {margin: 0.2em;color: black;border-radius: 0.25em;background-color: #f0f8ff;}#sk-container-id-2 input.sk-toggleable__control:checked~div.sk-toggleable__content {max-height: 200px;max-width: 100%;overflow: auto;}#sk-container-id-2 input.sk-toggleable__control:checked~label.sk-toggleable__label-arrow:before {content: \"▾\";}#sk-container-id-2 div.sk-estimator input.sk-toggleable__control:checked~label.sk-toggleable__label {background-color: #d4ebff;}#sk-container-id-2 div.sk-label input.sk-toggleable__control:checked~label.sk-toggleable__label {background-color: #d4ebff;}#sk-container-id-2 input.sk-hidden--visually {border: 0;clip: rect(1px 1px 1px 1px);clip: rect(1px, 1px, 1px, 1px);height: 1px;margin: -1px;overflow: hidden;padding: 0;position: absolute;width: 1px;}#sk-container-id-2 div.sk-estimator {font-family: monospace;background-color: #f0f8ff;border: 1px dotted black;border-radius: 0.25em;box-sizing: border-box;margin-bottom: 0.5em;}#sk-container-id-2 div.sk-estimator:hover {background-color: #d4ebff;}#sk-container-id-2 div.sk-parallel-item::after {content: \"\";width: 100%;border-bottom: 1px solid gray;flex-grow: 1;}#sk-container-id-2 div.sk-label:hover label.sk-toggleable__label {background-color: #d4ebff;}#sk-container-id-2 div.sk-serial::before {content: \"\";position: absolute;border-left: 1px solid gray;box-sizing: border-box;top: 0;bottom: 0;left: 50%;z-index: 0;}#sk-container-id-2 div.sk-serial {display: flex;flex-direction: column;align-items: center;background-color: white;padding-right: 0.2em;padding-left: 0.2em;position: relative;}#sk-container-id-2 div.sk-item {position: relative;z-index: 1;}#sk-container-id-2 div.sk-parallel {display: flex;align-items: stretch;justify-content: center;background-color: white;position: relative;}#sk-container-id-2 div.sk-item::before, #sk-container-id-2 div.sk-parallel-item::before {content: \"\";position: absolute;border-left: 1px solid gray;box-sizing: border-box;top: 0;bottom: 0;left: 50%;z-index: -1;}#sk-container-id-2 div.sk-parallel-item {display: flex;flex-direction: column;z-index: 1;position: relative;background-color: white;}#sk-container-id-2 div.sk-parallel-item:first-child::after {align-self: flex-end;width: 50%;}#sk-container-id-2 div.sk-parallel-item:last-child::after {align-self: flex-start;width: 50%;}#sk-container-id-2 div.sk-parallel-item:only-child::after {width: 0;}#sk-container-id-2 div.sk-dashed-wrapped {border: 1px dashed gray;margin: 0 0.4em 0.5em 0.4em;box-sizing: border-box;padding-bottom: 0.4em;background-color: white;}#sk-container-id-2 div.sk-label label {font-family: monospace;font-weight: bold;display: inline-block;line-height: 1.2em;}#sk-container-id-2 div.sk-label-container {text-align: center;}#sk-container-id-2 div.sk-container {/* jupyter's `normalize.less` sets `[hidden] { display: none; }` but bootstrap.min.css set `[hidden] { display: none !important; }` so we also need the `!important` here to be able to override the default hidden behavior on the sphinx rendered scikit-learn.org. See: https://github.com/scikit-learn/scikit-learn/issues/21755 */display: inline-block !important;position: relative;}#sk-container-id-2 div.sk-text-repr-fallback {display: none;}</style><div id=\"sk-container-id-2\" class=\"sk-top-container\"><div class=\"sk-text-repr-fallback\"><pre>DecisionTreeClassifier()</pre><b>In a Jupyter environment, please rerun this cell to show the HTML representation or trust the notebook. <br />On GitHub, the HTML representation is unable to render, please try loading this page with nbviewer.org.</b></div><div class=\"sk-container\" hidden><div class=\"sk-item\"><div class=\"sk-estimator sk-toggleable\"><input class=\"sk-toggleable__control sk-hidden--visually\" id=\"sk-estimator-id-2\" type=\"checkbox\" checked><label for=\"sk-estimator-id-2\" class=\"sk-toggleable__label sk-toggleable__label-arrow\">DecisionTreeClassifier</label><div class=\"sk-toggleable__content\"><pre>DecisionTreeClassifier()</pre></div></div></div></div></div>"
      ],
      "text/plain": [
       "DecisionTreeClassifier()"
      ]
     },
     "execution_count": 18,
     "metadata": {},
     "output_type": "execute_result"
    }
   ],
   "source": [
    "dtc_entailment = DecisionTreeClassifier()\n",
    "dtc_entailment.fit(X_train, y_train)"
   ]
  },
  {
   "cell_type": "code",
   "execution_count": 19,
   "metadata": {},
   "outputs": [
    {
     "data": {
      "text/plain": [
       "0.8352941176470589"
      ]
     },
     "execution_count": 19,
     "metadata": {},
     "output_type": "execute_result"
    }
   ],
   "source": [
    "y_pred = dtc_entailment.predict(X_test)\n",
    "from sklearn.metrics import accuracy_score, confusion_matrix\n",
    "accuracy_score(y_test, y_pred)"
   ]
  },
  {
   "cell_type": "code",
   "execution_count": 20,
   "metadata": {},
   "outputs": [
    {
     "data": {
      "text/plain": [
       "array([[ 713,  488],\n",
       "       [ 268, 3121]])"
      ]
     },
     "execution_count": 20,
     "metadata": {},
     "output_type": "execute_result"
    }
   ],
   "source": [
    "confusion_matrix(y_test, y_pred)"
   ]
  },
  {
   "cell_type": "code",
   "execution_count": 21,
   "metadata": {},
   "outputs": [
    {
     "data": {
      "text/plain": [
       "0.8919691340382967"
      ]
     },
     "execution_count": 21,
     "metadata": {},
     "output_type": "execute_result"
    }
   ],
   "source": [
    "f1_score(y_test, y_pred)"
   ]
  },
  {
   "attachments": {},
   "cell_type": "markdown",
   "metadata": {},
   "source": [
    "##### Model for Generic"
   ]
  },
  {
   "cell_type": "code",
   "execution_count": 22,
   "metadata": {},
   "outputs": [
    {
     "data": {
      "text/html": [
       "<style>#sk-container-id-3 {color: black;background-color: white;}#sk-container-id-3 pre{padding: 0;}#sk-container-id-3 div.sk-toggleable {background-color: white;}#sk-container-id-3 label.sk-toggleable__label {cursor: pointer;display: block;width: 100%;margin-bottom: 0;padding: 0.3em;box-sizing: border-box;text-align: center;}#sk-container-id-3 label.sk-toggleable__label-arrow:before {content: \"▸\";float: left;margin-right: 0.25em;color: #696969;}#sk-container-id-3 label.sk-toggleable__label-arrow:hover:before {color: black;}#sk-container-id-3 div.sk-estimator:hover label.sk-toggleable__label-arrow:before {color: black;}#sk-container-id-3 div.sk-toggleable__content {max-height: 0;max-width: 0;overflow: hidden;text-align: left;background-color: #f0f8ff;}#sk-container-id-3 div.sk-toggleable__content pre {margin: 0.2em;color: black;border-radius: 0.25em;background-color: #f0f8ff;}#sk-container-id-3 input.sk-toggleable__control:checked~div.sk-toggleable__content {max-height: 200px;max-width: 100%;overflow: auto;}#sk-container-id-3 input.sk-toggleable__control:checked~label.sk-toggleable__label-arrow:before {content: \"▾\";}#sk-container-id-3 div.sk-estimator input.sk-toggleable__control:checked~label.sk-toggleable__label {background-color: #d4ebff;}#sk-container-id-3 div.sk-label input.sk-toggleable__control:checked~label.sk-toggleable__label {background-color: #d4ebff;}#sk-container-id-3 input.sk-hidden--visually {border: 0;clip: rect(1px 1px 1px 1px);clip: rect(1px, 1px, 1px, 1px);height: 1px;margin: -1px;overflow: hidden;padding: 0;position: absolute;width: 1px;}#sk-container-id-3 div.sk-estimator {font-family: monospace;background-color: #f0f8ff;border: 1px dotted black;border-radius: 0.25em;box-sizing: border-box;margin-bottom: 0.5em;}#sk-container-id-3 div.sk-estimator:hover {background-color: #d4ebff;}#sk-container-id-3 div.sk-parallel-item::after {content: \"\";width: 100%;border-bottom: 1px solid gray;flex-grow: 1;}#sk-container-id-3 div.sk-label:hover label.sk-toggleable__label {background-color: #d4ebff;}#sk-container-id-3 div.sk-serial::before {content: \"\";position: absolute;border-left: 1px solid gray;box-sizing: border-box;top: 0;bottom: 0;left: 50%;z-index: 0;}#sk-container-id-3 div.sk-serial {display: flex;flex-direction: column;align-items: center;background-color: white;padding-right: 0.2em;padding-left: 0.2em;position: relative;}#sk-container-id-3 div.sk-item {position: relative;z-index: 1;}#sk-container-id-3 div.sk-parallel {display: flex;align-items: stretch;justify-content: center;background-color: white;position: relative;}#sk-container-id-3 div.sk-item::before, #sk-container-id-3 div.sk-parallel-item::before {content: \"\";position: absolute;border-left: 1px solid gray;box-sizing: border-box;top: 0;bottom: 0;left: 50%;z-index: -1;}#sk-container-id-3 div.sk-parallel-item {display: flex;flex-direction: column;z-index: 1;position: relative;background-color: white;}#sk-container-id-3 div.sk-parallel-item:first-child::after {align-self: flex-end;width: 50%;}#sk-container-id-3 div.sk-parallel-item:last-child::after {align-self: flex-start;width: 50%;}#sk-container-id-3 div.sk-parallel-item:only-child::after {width: 0;}#sk-container-id-3 div.sk-dashed-wrapped {border: 1px dashed gray;margin: 0 0.4em 0.5em 0.4em;box-sizing: border-box;padding-bottom: 0.4em;background-color: white;}#sk-container-id-3 div.sk-label label {font-family: monospace;font-weight: bold;display: inline-block;line-height: 1.2em;}#sk-container-id-3 div.sk-label-container {text-align: center;}#sk-container-id-3 div.sk-container {/* jupyter's `normalize.less` sets `[hidden] { display: none; }` but bootstrap.min.css set `[hidden] { display: none !important; }` so we also need the `!important` here to be able to override the default hidden behavior on the sphinx rendered scikit-learn.org. See: https://github.com/scikit-learn/scikit-learn/issues/21755 */display: inline-block !important;position: relative;}#sk-container-id-3 div.sk-text-repr-fallback {display: none;}</style><div id=\"sk-container-id-3\" class=\"sk-top-container\"><div class=\"sk-text-repr-fallback\"><pre>DecisionTreeClassifier()</pre><b>In a Jupyter environment, please rerun this cell to show the HTML representation or trust the notebook. <br />On GitHub, the HTML representation is unable to render, please try loading this page with nbviewer.org.</b></div><div class=\"sk-container\" hidden><div class=\"sk-item\"><div class=\"sk-estimator sk-toggleable\"><input class=\"sk-toggleable__control sk-hidden--visually\" id=\"sk-estimator-id-3\" type=\"checkbox\" checked><label for=\"sk-estimator-id-3\" class=\"sk-toggleable__label sk-toggleable__label-arrow\">DecisionTreeClassifier</label><div class=\"sk-toggleable__content\"><pre>DecisionTreeClassifier()</pre></div></div></div></div></div>"
      ],
      "text/plain": [
       "DecisionTreeClassifier()"
      ]
     },
     "execution_count": 22,
     "metadata": {},
     "output_type": "execute_result"
    }
   ],
   "source": [
    "dtc_generic = DecisionTreeClassifier()\n",
    "dtc_generic.fit(X_train, y_train)"
   ]
  },
  {
   "cell_type": "code",
   "execution_count": 23,
   "metadata": {},
   "outputs": [
    {
     "data": {
      "text/plain": [
       "0.835511982570806"
      ]
     },
     "execution_count": 23,
     "metadata": {},
     "output_type": "execute_result"
    }
   ],
   "source": [
    "y_pred = dtc_generic.predict(X_test)\n",
    "from sklearn.metrics import accuracy_score, confusion_matrix\n",
    "accuracy_score(y_test, y_pred)"
   ]
  },
  {
   "cell_type": "code",
   "execution_count": 24,
   "metadata": {},
   "outputs": [
    {
     "data": {
      "text/plain": [
       "array([[ 713,  488],\n",
       "       [ 267, 3122]])"
      ]
     },
     "execution_count": 24,
     "metadata": {},
     "output_type": "execute_result"
    }
   ],
   "source": [
    "confusion_matrix(y_test, y_pred)"
   ]
  },
  {
   "cell_type": "code",
   "execution_count": 25,
   "metadata": {},
   "outputs": [
    {
     "data": {
      "text/plain": [
       "0.8921274467781112"
      ]
     },
     "execution_count": 25,
     "metadata": {},
     "output_type": "execute_result"
    }
   ],
   "source": [
    "f1_score(y_test, y_pred)"
   ]
  },
  {
   "attachments": {},
   "cell_type": "markdown",
   "metadata": {},
   "source": [
    "##### Model for Uncooperative"
   ]
  },
  {
   "cell_type": "code",
   "execution_count": 26,
   "metadata": {},
   "outputs": [
    {
     "data": {
      "text/html": [
       "<style>#sk-container-id-4 {color: black;background-color: white;}#sk-container-id-4 pre{padding: 0;}#sk-container-id-4 div.sk-toggleable {background-color: white;}#sk-container-id-4 label.sk-toggleable__label {cursor: pointer;display: block;width: 100%;margin-bottom: 0;padding: 0.3em;box-sizing: border-box;text-align: center;}#sk-container-id-4 label.sk-toggleable__label-arrow:before {content: \"▸\";float: left;margin-right: 0.25em;color: #696969;}#sk-container-id-4 label.sk-toggleable__label-arrow:hover:before {color: black;}#sk-container-id-4 div.sk-estimator:hover label.sk-toggleable__label-arrow:before {color: black;}#sk-container-id-4 div.sk-toggleable__content {max-height: 0;max-width: 0;overflow: hidden;text-align: left;background-color: #f0f8ff;}#sk-container-id-4 div.sk-toggleable__content pre {margin: 0.2em;color: black;border-radius: 0.25em;background-color: #f0f8ff;}#sk-container-id-4 input.sk-toggleable__control:checked~div.sk-toggleable__content {max-height: 200px;max-width: 100%;overflow: auto;}#sk-container-id-4 input.sk-toggleable__control:checked~label.sk-toggleable__label-arrow:before {content: \"▾\";}#sk-container-id-4 div.sk-estimator input.sk-toggleable__control:checked~label.sk-toggleable__label {background-color: #d4ebff;}#sk-container-id-4 div.sk-label input.sk-toggleable__control:checked~label.sk-toggleable__label {background-color: #d4ebff;}#sk-container-id-4 input.sk-hidden--visually {border: 0;clip: rect(1px 1px 1px 1px);clip: rect(1px, 1px, 1px, 1px);height: 1px;margin: -1px;overflow: hidden;padding: 0;position: absolute;width: 1px;}#sk-container-id-4 div.sk-estimator {font-family: monospace;background-color: #f0f8ff;border: 1px dotted black;border-radius: 0.25em;box-sizing: border-box;margin-bottom: 0.5em;}#sk-container-id-4 div.sk-estimator:hover {background-color: #d4ebff;}#sk-container-id-4 div.sk-parallel-item::after {content: \"\";width: 100%;border-bottom: 1px solid gray;flex-grow: 1;}#sk-container-id-4 div.sk-label:hover label.sk-toggleable__label {background-color: #d4ebff;}#sk-container-id-4 div.sk-serial::before {content: \"\";position: absolute;border-left: 1px solid gray;box-sizing: border-box;top: 0;bottom: 0;left: 50%;z-index: 0;}#sk-container-id-4 div.sk-serial {display: flex;flex-direction: column;align-items: center;background-color: white;padding-right: 0.2em;padding-left: 0.2em;position: relative;}#sk-container-id-4 div.sk-item {position: relative;z-index: 1;}#sk-container-id-4 div.sk-parallel {display: flex;align-items: stretch;justify-content: center;background-color: white;position: relative;}#sk-container-id-4 div.sk-item::before, #sk-container-id-4 div.sk-parallel-item::before {content: \"\";position: absolute;border-left: 1px solid gray;box-sizing: border-box;top: 0;bottom: 0;left: 50%;z-index: -1;}#sk-container-id-4 div.sk-parallel-item {display: flex;flex-direction: column;z-index: 1;position: relative;background-color: white;}#sk-container-id-4 div.sk-parallel-item:first-child::after {align-self: flex-end;width: 50%;}#sk-container-id-4 div.sk-parallel-item:last-child::after {align-self: flex-start;width: 50%;}#sk-container-id-4 div.sk-parallel-item:only-child::after {width: 0;}#sk-container-id-4 div.sk-dashed-wrapped {border: 1px dashed gray;margin: 0 0.4em 0.5em 0.4em;box-sizing: border-box;padding-bottom: 0.4em;background-color: white;}#sk-container-id-4 div.sk-label label {font-family: monospace;font-weight: bold;display: inline-block;line-height: 1.2em;}#sk-container-id-4 div.sk-label-container {text-align: center;}#sk-container-id-4 div.sk-container {/* jupyter's `normalize.less` sets `[hidden] { display: none; }` but bootstrap.min.css set `[hidden] { display: none !important; }` so we also need the `!important` here to be able to override the default hidden behavior on the sphinx rendered scikit-learn.org. See: https://github.com/scikit-learn/scikit-learn/issues/21755 */display: inline-block !important;position: relative;}#sk-container-id-4 div.sk-text-repr-fallback {display: none;}</style><div id=\"sk-container-id-4\" class=\"sk-top-container\"><div class=\"sk-text-repr-fallback\"><pre>DecisionTreeClassifier()</pre><b>In a Jupyter environment, please rerun this cell to show the HTML representation or trust the notebook. <br />On GitHub, the HTML representation is unable to render, please try loading this page with nbviewer.org.</b></div><div class=\"sk-container\" hidden><div class=\"sk-item\"><div class=\"sk-estimator sk-toggleable\"><input class=\"sk-toggleable__control sk-hidden--visually\" id=\"sk-estimator-id-4\" type=\"checkbox\" checked><label for=\"sk-estimator-id-4\" class=\"sk-toggleable__label sk-toggleable__label-arrow\">DecisionTreeClassifier</label><div class=\"sk-toggleable__content\"><pre>DecisionTreeClassifier()</pre></div></div></div></div></div>"
      ],
      "text/plain": [
       "DecisionTreeClassifier()"
      ]
     },
     "execution_count": 26,
     "metadata": {},
     "output_type": "execute_result"
    }
   ],
   "source": [
    "dtc_uncooperative = DecisionTreeClassifier()\n",
    "dtc_uncooperative.fit(X_train, y_train)"
   ]
  },
  {
   "cell_type": "code",
   "execution_count": 27,
   "metadata": {},
   "outputs": [
    {
     "data": {
      "text/plain": [
       "0.835511982570806"
      ]
     },
     "execution_count": 27,
     "metadata": {},
     "output_type": "execute_result"
    }
   ],
   "source": [
    "y_pred = dtc_uncooperative.predict(X_test)\n",
    "from sklearn.metrics import accuracy_score, confusion_matrix\n",
    "accuracy_score(y_test, y_pred)"
   ]
  },
  {
   "cell_type": "code",
   "execution_count": 28,
   "metadata": {},
   "outputs": [
    {
     "data": {
      "text/plain": [
       "array([[ 712,  489],\n",
       "       [ 266, 3123]])"
      ]
     },
     "execution_count": 28,
     "metadata": {},
     "output_type": "execute_result"
    }
   ],
   "source": [
    "confusion_matrix(y_test, y_pred)"
   ]
  },
  {
   "cell_type": "code",
   "execution_count": 29,
   "metadata": {},
   "outputs": [
    {
     "data": {
      "text/plain": [
       "0.8921582631052706"
      ]
     },
     "execution_count": 29,
     "metadata": {},
     "output_type": "execute_result"
    }
   ],
   "source": [
    "f1_score(y_test, y_pred)"
   ]
  },
  {
   "attachments": {},
   "cell_type": "markdown",
   "metadata": {},
   "source": [
    "# VRM Classification"
   ]
  },
  {
   "attachments": {},
   "cell_type": "markdown",
   "metadata": {},
   "source": [
    "##### Model for Disclosure"
   ]
  },
  {
   "cell_type": "code",
   "execution_count": 30,
   "metadata": {},
   "outputs": [],
   "source": [
    "import pandas as pd\n",
    "data = pd.read_csv('train_vrm_vectors.csv')\n",
    "from sklearn.tree import DecisionTreeClassifier\n",
    "from sklearn.model_selection import train_test_split\n",
    "X = data.iloc[:,2:201]"
   ]
  },
  {
   "cell_type": "code",
   "execution_count": 31,
   "metadata": {},
   "outputs": [
    {
     "data": {
      "text/html": [
       "<style>#sk-container-id-5 {color: black;background-color: white;}#sk-container-id-5 pre{padding: 0;}#sk-container-id-5 div.sk-toggleable {background-color: white;}#sk-container-id-5 label.sk-toggleable__label {cursor: pointer;display: block;width: 100%;margin-bottom: 0;padding: 0.3em;box-sizing: border-box;text-align: center;}#sk-container-id-5 label.sk-toggleable__label-arrow:before {content: \"▸\";float: left;margin-right: 0.25em;color: #696969;}#sk-container-id-5 label.sk-toggleable__label-arrow:hover:before {color: black;}#sk-container-id-5 div.sk-estimator:hover label.sk-toggleable__label-arrow:before {color: black;}#sk-container-id-5 div.sk-toggleable__content {max-height: 0;max-width: 0;overflow: hidden;text-align: left;background-color: #f0f8ff;}#sk-container-id-5 div.sk-toggleable__content pre {margin: 0.2em;color: black;border-radius: 0.25em;background-color: #f0f8ff;}#sk-container-id-5 input.sk-toggleable__control:checked~div.sk-toggleable__content {max-height: 200px;max-width: 100%;overflow: auto;}#sk-container-id-5 input.sk-toggleable__control:checked~label.sk-toggleable__label-arrow:before {content: \"▾\";}#sk-container-id-5 div.sk-estimator input.sk-toggleable__control:checked~label.sk-toggleable__label {background-color: #d4ebff;}#sk-container-id-5 div.sk-label input.sk-toggleable__control:checked~label.sk-toggleable__label {background-color: #d4ebff;}#sk-container-id-5 input.sk-hidden--visually {border: 0;clip: rect(1px 1px 1px 1px);clip: rect(1px, 1px, 1px, 1px);height: 1px;margin: -1px;overflow: hidden;padding: 0;position: absolute;width: 1px;}#sk-container-id-5 div.sk-estimator {font-family: monospace;background-color: #f0f8ff;border: 1px dotted black;border-radius: 0.25em;box-sizing: border-box;margin-bottom: 0.5em;}#sk-container-id-5 div.sk-estimator:hover {background-color: #d4ebff;}#sk-container-id-5 div.sk-parallel-item::after {content: \"\";width: 100%;border-bottom: 1px solid gray;flex-grow: 1;}#sk-container-id-5 div.sk-label:hover label.sk-toggleable__label {background-color: #d4ebff;}#sk-container-id-5 div.sk-serial::before {content: \"\";position: absolute;border-left: 1px solid gray;box-sizing: border-box;top: 0;bottom: 0;left: 50%;z-index: 0;}#sk-container-id-5 div.sk-serial {display: flex;flex-direction: column;align-items: center;background-color: white;padding-right: 0.2em;padding-left: 0.2em;position: relative;}#sk-container-id-5 div.sk-item {position: relative;z-index: 1;}#sk-container-id-5 div.sk-parallel {display: flex;align-items: stretch;justify-content: center;background-color: white;position: relative;}#sk-container-id-5 div.sk-item::before, #sk-container-id-5 div.sk-parallel-item::before {content: \"\";position: absolute;border-left: 1px solid gray;box-sizing: border-box;top: 0;bottom: 0;left: 50%;z-index: -1;}#sk-container-id-5 div.sk-parallel-item {display: flex;flex-direction: column;z-index: 1;position: relative;background-color: white;}#sk-container-id-5 div.sk-parallel-item:first-child::after {align-self: flex-end;width: 50%;}#sk-container-id-5 div.sk-parallel-item:last-child::after {align-self: flex-start;width: 50%;}#sk-container-id-5 div.sk-parallel-item:only-child::after {width: 0;}#sk-container-id-5 div.sk-dashed-wrapped {border: 1px dashed gray;margin: 0 0.4em 0.5em 0.4em;box-sizing: border-box;padding-bottom: 0.4em;background-color: white;}#sk-container-id-5 div.sk-label label {font-family: monospace;font-weight: bold;display: inline-block;line-height: 1.2em;}#sk-container-id-5 div.sk-label-container {text-align: center;}#sk-container-id-5 div.sk-container {/* jupyter's `normalize.less` sets `[hidden] { display: none; }` but bootstrap.min.css set `[hidden] { display: none !important; }` so we also need the `!important` here to be able to override the default hidden behavior on the sphinx rendered scikit-learn.org. See: https://github.com/scikit-learn/scikit-learn/issues/21755 */display: inline-block !important;position: relative;}#sk-container-id-5 div.sk-text-repr-fallback {display: none;}</style><div id=\"sk-container-id-5\" class=\"sk-top-container\"><div class=\"sk-text-repr-fallback\"><pre>DecisionTreeClassifier()</pre><b>In a Jupyter environment, please rerun this cell to show the HTML representation or trust the notebook. <br />On GitHub, the HTML representation is unable to render, please try loading this page with nbviewer.org.</b></div><div class=\"sk-container\" hidden><div class=\"sk-item\"><div class=\"sk-estimator sk-toggleable\"><input class=\"sk-toggleable__control sk-hidden--visually\" id=\"sk-estimator-id-5\" type=\"checkbox\" checked><label for=\"sk-estimator-id-5\" class=\"sk-toggleable__label sk-toggleable__label-arrow\">DecisionTreeClassifier</label><div class=\"sk-toggleable__content\"><pre>DecisionTreeClassifier()</pre></div></div></div></div></div>"
      ],
      "text/plain": [
       "DecisionTreeClassifier()"
      ]
     },
     "execution_count": 31,
     "metadata": {},
     "output_type": "execute_result"
    }
   ],
   "source": [
    "y = data['Disclosure']\n",
    "X_train, X_test, y_train, y_test = train_test_split(X, y, test_size = 0.25, random_state = 0)\n",
    "\n",
    "dtc_disclocure = DecisionTreeClassifier()\n",
    "dtc_disclocure.fit(X_train, y_train)"
   ]
  },
  {
   "cell_type": "code",
   "execution_count": 32,
   "metadata": {},
   "outputs": [
    {
     "data": {
      "text/plain": [
       "0.5434190620272314"
      ]
     },
     "execution_count": 32,
     "metadata": {},
     "output_type": "execute_result"
    }
   ],
   "source": [
    "y_pred = dtc_disclocure.predict(X_test)\n",
    "from sklearn.metrics import accuracy_score, confusion_matrix, f1_score\n",
    "accuracy_score(y_test, y_pred)"
   ]
  },
  {
   "cell_type": "code",
   "execution_count": 33,
   "metadata": {},
   "outputs": [
    {
     "data": {
      "text/plain": [
       "array([[ 395,  736],\n",
       "       [ 773, 1401]])"
      ]
     },
     "execution_count": 33,
     "metadata": {},
     "output_type": "execute_result"
    }
   ],
   "source": [
    "confusion_matrix(y_test, y_pred)"
   ]
  },
  {
   "cell_type": "code",
   "execution_count": 34,
   "metadata": {},
   "outputs": [
    {
     "data": {
      "text/plain": [
       "0.6499652052887961"
      ]
     },
     "execution_count": 34,
     "metadata": {},
     "output_type": "execute_result"
    }
   ],
   "source": [
    "f1_score(y_test, y_pred)"
   ]
  },
  {
   "attachments": {},
   "cell_type": "markdown",
   "metadata": {},
   "source": [
    "##### Model for Edification"
   ]
  },
  {
   "cell_type": "code",
   "execution_count": 35,
   "metadata": {},
   "outputs": [
    {
     "data": {
      "text/html": [
       "<style>#sk-container-id-6 {color: black;background-color: white;}#sk-container-id-6 pre{padding: 0;}#sk-container-id-6 div.sk-toggleable {background-color: white;}#sk-container-id-6 label.sk-toggleable__label {cursor: pointer;display: block;width: 100%;margin-bottom: 0;padding: 0.3em;box-sizing: border-box;text-align: center;}#sk-container-id-6 label.sk-toggleable__label-arrow:before {content: \"▸\";float: left;margin-right: 0.25em;color: #696969;}#sk-container-id-6 label.sk-toggleable__label-arrow:hover:before {color: black;}#sk-container-id-6 div.sk-estimator:hover label.sk-toggleable__label-arrow:before {color: black;}#sk-container-id-6 div.sk-toggleable__content {max-height: 0;max-width: 0;overflow: hidden;text-align: left;background-color: #f0f8ff;}#sk-container-id-6 div.sk-toggleable__content pre {margin: 0.2em;color: black;border-radius: 0.25em;background-color: #f0f8ff;}#sk-container-id-6 input.sk-toggleable__control:checked~div.sk-toggleable__content {max-height: 200px;max-width: 100%;overflow: auto;}#sk-container-id-6 input.sk-toggleable__control:checked~label.sk-toggleable__label-arrow:before {content: \"▾\";}#sk-container-id-6 div.sk-estimator input.sk-toggleable__control:checked~label.sk-toggleable__label {background-color: #d4ebff;}#sk-container-id-6 div.sk-label input.sk-toggleable__control:checked~label.sk-toggleable__label {background-color: #d4ebff;}#sk-container-id-6 input.sk-hidden--visually {border: 0;clip: rect(1px 1px 1px 1px);clip: rect(1px, 1px, 1px, 1px);height: 1px;margin: -1px;overflow: hidden;padding: 0;position: absolute;width: 1px;}#sk-container-id-6 div.sk-estimator {font-family: monospace;background-color: #f0f8ff;border: 1px dotted black;border-radius: 0.25em;box-sizing: border-box;margin-bottom: 0.5em;}#sk-container-id-6 div.sk-estimator:hover {background-color: #d4ebff;}#sk-container-id-6 div.sk-parallel-item::after {content: \"\";width: 100%;border-bottom: 1px solid gray;flex-grow: 1;}#sk-container-id-6 div.sk-label:hover label.sk-toggleable__label {background-color: #d4ebff;}#sk-container-id-6 div.sk-serial::before {content: \"\";position: absolute;border-left: 1px solid gray;box-sizing: border-box;top: 0;bottom: 0;left: 50%;z-index: 0;}#sk-container-id-6 div.sk-serial {display: flex;flex-direction: column;align-items: center;background-color: white;padding-right: 0.2em;padding-left: 0.2em;position: relative;}#sk-container-id-6 div.sk-item {position: relative;z-index: 1;}#sk-container-id-6 div.sk-parallel {display: flex;align-items: stretch;justify-content: center;background-color: white;position: relative;}#sk-container-id-6 div.sk-item::before, #sk-container-id-6 div.sk-parallel-item::before {content: \"\";position: absolute;border-left: 1px solid gray;box-sizing: border-box;top: 0;bottom: 0;left: 50%;z-index: -1;}#sk-container-id-6 div.sk-parallel-item {display: flex;flex-direction: column;z-index: 1;position: relative;background-color: white;}#sk-container-id-6 div.sk-parallel-item:first-child::after {align-self: flex-end;width: 50%;}#sk-container-id-6 div.sk-parallel-item:last-child::after {align-self: flex-start;width: 50%;}#sk-container-id-6 div.sk-parallel-item:only-child::after {width: 0;}#sk-container-id-6 div.sk-dashed-wrapped {border: 1px dashed gray;margin: 0 0.4em 0.5em 0.4em;box-sizing: border-box;padding-bottom: 0.4em;background-color: white;}#sk-container-id-6 div.sk-label label {font-family: monospace;font-weight: bold;display: inline-block;line-height: 1.2em;}#sk-container-id-6 div.sk-label-container {text-align: center;}#sk-container-id-6 div.sk-container {/* jupyter's `normalize.less` sets `[hidden] { display: none; }` but bootstrap.min.css set `[hidden] { display: none !important; }` so we also need the `!important` here to be able to override the default hidden behavior on the sphinx rendered scikit-learn.org. See: https://github.com/scikit-learn/scikit-learn/issues/21755 */display: inline-block !important;position: relative;}#sk-container-id-6 div.sk-text-repr-fallback {display: none;}</style><div id=\"sk-container-id-6\" class=\"sk-top-container\"><div class=\"sk-text-repr-fallback\"><pre>DecisionTreeClassifier()</pre><b>In a Jupyter environment, please rerun this cell to show the HTML representation or trust the notebook. <br />On GitHub, the HTML representation is unable to render, please try loading this page with nbviewer.org.</b></div><div class=\"sk-container\" hidden><div class=\"sk-item\"><div class=\"sk-estimator sk-toggleable\"><input class=\"sk-toggleable__control sk-hidden--visually\" id=\"sk-estimator-id-6\" type=\"checkbox\" checked><label for=\"sk-estimator-id-6\" class=\"sk-toggleable__label sk-toggleable__label-arrow\">DecisionTreeClassifier</label><div class=\"sk-toggleable__content\"><pre>DecisionTreeClassifier()</pre></div></div></div></div></div>"
      ],
      "text/plain": [
       "DecisionTreeClassifier()"
      ]
     },
     "execution_count": 35,
     "metadata": {},
     "output_type": "execute_result"
    }
   ],
   "source": [
    "y = data['Edification']\n",
    "X_train, X_test, y_train, y_test = train_test_split(X, y, test_size = 0.25, random_state = 0)\n",
    "\n",
    "dtc_edification = DecisionTreeClassifier()\n",
    "dtc_edification.fit(X_train, y_train)"
   ]
  },
  {
   "cell_type": "code",
   "execution_count": 36,
   "metadata": {},
   "outputs": [
    {
     "data": {
      "text/plain": [
       "0.5131618759455371"
      ]
     },
     "execution_count": 36,
     "metadata": {},
     "output_type": "execute_result"
    }
   ],
   "source": [
    "y_pred = dtc_edification.predict(X_test)\n",
    "from sklearn.metrics import accuracy_score, confusion_matrix\n",
    "accuracy_score(y_test, y_pred)"
   ]
  },
  {
   "cell_type": "code",
   "execution_count": 37,
   "metadata": {},
   "outputs": [
    {
     "data": {
      "text/plain": [
       "array([[889, 812],\n",
       "       [797, 807]])"
      ]
     },
     "execution_count": 37,
     "metadata": {},
     "output_type": "execute_result"
    }
   ],
   "source": [
    "confusion_matrix(y_test, y_pred)"
   ]
  },
  {
   "cell_type": "code",
   "execution_count": 38,
   "metadata": {},
   "outputs": [
    {
     "data": {
      "text/plain": [
       "0.5007756748371083"
      ]
     },
     "execution_count": 38,
     "metadata": {},
     "output_type": "execute_result"
    }
   ],
   "source": [
    "f1_score(y_test, y_pred)"
   ]
  },
  {
   "attachments": {},
   "cell_type": "markdown",
   "metadata": {},
   "source": [
    "##### Model for Question"
   ]
  },
  {
   "cell_type": "code",
   "execution_count": 39,
   "metadata": {},
   "outputs": [
    {
     "data": {
      "text/html": [
       "<style>#sk-container-id-7 {color: black;background-color: white;}#sk-container-id-7 pre{padding: 0;}#sk-container-id-7 div.sk-toggleable {background-color: white;}#sk-container-id-7 label.sk-toggleable__label {cursor: pointer;display: block;width: 100%;margin-bottom: 0;padding: 0.3em;box-sizing: border-box;text-align: center;}#sk-container-id-7 label.sk-toggleable__label-arrow:before {content: \"▸\";float: left;margin-right: 0.25em;color: #696969;}#sk-container-id-7 label.sk-toggleable__label-arrow:hover:before {color: black;}#sk-container-id-7 div.sk-estimator:hover label.sk-toggleable__label-arrow:before {color: black;}#sk-container-id-7 div.sk-toggleable__content {max-height: 0;max-width: 0;overflow: hidden;text-align: left;background-color: #f0f8ff;}#sk-container-id-7 div.sk-toggleable__content pre {margin: 0.2em;color: black;border-radius: 0.25em;background-color: #f0f8ff;}#sk-container-id-7 input.sk-toggleable__control:checked~div.sk-toggleable__content {max-height: 200px;max-width: 100%;overflow: auto;}#sk-container-id-7 input.sk-toggleable__control:checked~label.sk-toggleable__label-arrow:before {content: \"▾\";}#sk-container-id-7 div.sk-estimator input.sk-toggleable__control:checked~label.sk-toggleable__label {background-color: #d4ebff;}#sk-container-id-7 div.sk-label input.sk-toggleable__control:checked~label.sk-toggleable__label {background-color: #d4ebff;}#sk-container-id-7 input.sk-hidden--visually {border: 0;clip: rect(1px 1px 1px 1px);clip: rect(1px, 1px, 1px, 1px);height: 1px;margin: -1px;overflow: hidden;padding: 0;position: absolute;width: 1px;}#sk-container-id-7 div.sk-estimator {font-family: monospace;background-color: #f0f8ff;border: 1px dotted black;border-radius: 0.25em;box-sizing: border-box;margin-bottom: 0.5em;}#sk-container-id-7 div.sk-estimator:hover {background-color: #d4ebff;}#sk-container-id-7 div.sk-parallel-item::after {content: \"\";width: 100%;border-bottom: 1px solid gray;flex-grow: 1;}#sk-container-id-7 div.sk-label:hover label.sk-toggleable__label {background-color: #d4ebff;}#sk-container-id-7 div.sk-serial::before {content: \"\";position: absolute;border-left: 1px solid gray;box-sizing: border-box;top: 0;bottom: 0;left: 50%;z-index: 0;}#sk-container-id-7 div.sk-serial {display: flex;flex-direction: column;align-items: center;background-color: white;padding-right: 0.2em;padding-left: 0.2em;position: relative;}#sk-container-id-7 div.sk-item {position: relative;z-index: 1;}#sk-container-id-7 div.sk-parallel {display: flex;align-items: stretch;justify-content: center;background-color: white;position: relative;}#sk-container-id-7 div.sk-item::before, #sk-container-id-7 div.sk-parallel-item::before {content: \"\";position: absolute;border-left: 1px solid gray;box-sizing: border-box;top: 0;bottom: 0;left: 50%;z-index: -1;}#sk-container-id-7 div.sk-parallel-item {display: flex;flex-direction: column;z-index: 1;position: relative;background-color: white;}#sk-container-id-7 div.sk-parallel-item:first-child::after {align-self: flex-end;width: 50%;}#sk-container-id-7 div.sk-parallel-item:last-child::after {align-self: flex-start;width: 50%;}#sk-container-id-7 div.sk-parallel-item:only-child::after {width: 0;}#sk-container-id-7 div.sk-dashed-wrapped {border: 1px dashed gray;margin: 0 0.4em 0.5em 0.4em;box-sizing: border-box;padding-bottom: 0.4em;background-color: white;}#sk-container-id-7 div.sk-label label {font-family: monospace;font-weight: bold;display: inline-block;line-height: 1.2em;}#sk-container-id-7 div.sk-label-container {text-align: center;}#sk-container-id-7 div.sk-container {/* jupyter's `normalize.less` sets `[hidden] { display: none; }` but bootstrap.min.css set `[hidden] { display: none !important; }` so we also need the `!important` here to be able to override the default hidden behavior on the sphinx rendered scikit-learn.org. See: https://github.com/scikit-learn/scikit-learn/issues/21755 */display: inline-block !important;position: relative;}#sk-container-id-7 div.sk-text-repr-fallback {display: none;}</style><div id=\"sk-container-id-7\" class=\"sk-top-container\"><div class=\"sk-text-repr-fallback\"><pre>DecisionTreeClassifier()</pre><b>In a Jupyter environment, please rerun this cell to show the HTML representation or trust the notebook. <br />On GitHub, the HTML representation is unable to render, please try loading this page with nbviewer.org.</b></div><div class=\"sk-container\" hidden><div class=\"sk-item\"><div class=\"sk-estimator sk-toggleable\"><input class=\"sk-toggleable__control sk-hidden--visually\" id=\"sk-estimator-id-7\" type=\"checkbox\" checked><label for=\"sk-estimator-id-7\" class=\"sk-toggleable__label sk-toggleable__label-arrow\">DecisionTreeClassifier</label><div class=\"sk-toggleable__content\"><pre>DecisionTreeClassifier()</pre></div></div></div></div></div>"
      ],
      "text/plain": [
       "DecisionTreeClassifier()"
      ]
     },
     "execution_count": 39,
     "metadata": {},
     "output_type": "execute_result"
    }
   ],
   "source": [
    "y = data['Question']\n",
    "X_train, X_test, y_train, y_test = train_test_split(X, y, test_size = 0.25, random_state = 0)\n",
    "\n",
    "dtc_question = DecisionTreeClassifier()\n",
    "dtc_question.fit(X_train, y_train)"
   ]
  },
  {
   "cell_type": "code",
   "execution_count": 40,
   "metadata": {},
   "outputs": [
    {
     "data": {
      "text/plain": [
       "0.7878971255673223"
      ]
     },
     "execution_count": 40,
     "metadata": {},
     "output_type": "execute_result"
    }
   ],
   "source": [
    "y_pred = dtc_question.predict(X_test)\n",
    "from sklearn.metrics import accuracy_score, confusion_matrix\n",
    "accuracy_score(y_test, y_pred)"
   ]
  },
  {
   "cell_type": "code",
   "execution_count": 41,
   "metadata": {},
   "outputs": [
    {
     "data": {
      "text/plain": [
       "0.09548387096774194"
      ]
     },
     "execution_count": 41,
     "metadata": {},
     "output_type": "execute_result"
    }
   ],
   "source": [
    "f1_score(y_test, y_pred)"
   ]
  },
  {
   "cell_type": "code",
   "execution_count": 42,
   "metadata": {},
   "outputs": [
    {
     "data": {
      "text/plain": [
       "array([[2567,  412],\n",
       "       [ 289,   37]])"
      ]
     },
     "execution_count": 42,
     "metadata": {},
     "output_type": "execute_result"
    }
   ],
   "source": [
    "confusion_matrix(y_test, y_pred)"
   ]
  },
  {
   "attachments": {},
   "cell_type": "markdown",
   "metadata": {},
   "source": [
    "##### Model for Acknowledgement"
   ]
  },
  {
   "cell_type": "code",
   "execution_count": 43,
   "metadata": {},
   "outputs": [
    {
     "data": {
      "text/html": [
       "<style>#sk-container-id-8 {color: black;background-color: white;}#sk-container-id-8 pre{padding: 0;}#sk-container-id-8 div.sk-toggleable {background-color: white;}#sk-container-id-8 label.sk-toggleable__label {cursor: pointer;display: block;width: 100%;margin-bottom: 0;padding: 0.3em;box-sizing: border-box;text-align: center;}#sk-container-id-8 label.sk-toggleable__label-arrow:before {content: \"▸\";float: left;margin-right: 0.25em;color: #696969;}#sk-container-id-8 label.sk-toggleable__label-arrow:hover:before {color: black;}#sk-container-id-8 div.sk-estimator:hover label.sk-toggleable__label-arrow:before {color: black;}#sk-container-id-8 div.sk-toggleable__content {max-height: 0;max-width: 0;overflow: hidden;text-align: left;background-color: #f0f8ff;}#sk-container-id-8 div.sk-toggleable__content pre {margin: 0.2em;color: black;border-radius: 0.25em;background-color: #f0f8ff;}#sk-container-id-8 input.sk-toggleable__control:checked~div.sk-toggleable__content {max-height: 200px;max-width: 100%;overflow: auto;}#sk-container-id-8 input.sk-toggleable__control:checked~label.sk-toggleable__label-arrow:before {content: \"▾\";}#sk-container-id-8 div.sk-estimator input.sk-toggleable__control:checked~label.sk-toggleable__label {background-color: #d4ebff;}#sk-container-id-8 div.sk-label input.sk-toggleable__control:checked~label.sk-toggleable__label {background-color: #d4ebff;}#sk-container-id-8 input.sk-hidden--visually {border: 0;clip: rect(1px 1px 1px 1px);clip: rect(1px, 1px, 1px, 1px);height: 1px;margin: -1px;overflow: hidden;padding: 0;position: absolute;width: 1px;}#sk-container-id-8 div.sk-estimator {font-family: monospace;background-color: #f0f8ff;border: 1px dotted black;border-radius: 0.25em;box-sizing: border-box;margin-bottom: 0.5em;}#sk-container-id-8 div.sk-estimator:hover {background-color: #d4ebff;}#sk-container-id-8 div.sk-parallel-item::after {content: \"\";width: 100%;border-bottom: 1px solid gray;flex-grow: 1;}#sk-container-id-8 div.sk-label:hover label.sk-toggleable__label {background-color: #d4ebff;}#sk-container-id-8 div.sk-serial::before {content: \"\";position: absolute;border-left: 1px solid gray;box-sizing: border-box;top: 0;bottom: 0;left: 50%;z-index: 0;}#sk-container-id-8 div.sk-serial {display: flex;flex-direction: column;align-items: center;background-color: white;padding-right: 0.2em;padding-left: 0.2em;position: relative;}#sk-container-id-8 div.sk-item {position: relative;z-index: 1;}#sk-container-id-8 div.sk-parallel {display: flex;align-items: stretch;justify-content: center;background-color: white;position: relative;}#sk-container-id-8 div.sk-item::before, #sk-container-id-8 div.sk-parallel-item::before {content: \"\";position: absolute;border-left: 1px solid gray;box-sizing: border-box;top: 0;bottom: 0;left: 50%;z-index: -1;}#sk-container-id-8 div.sk-parallel-item {display: flex;flex-direction: column;z-index: 1;position: relative;background-color: white;}#sk-container-id-8 div.sk-parallel-item:first-child::after {align-self: flex-end;width: 50%;}#sk-container-id-8 div.sk-parallel-item:last-child::after {align-self: flex-start;width: 50%;}#sk-container-id-8 div.sk-parallel-item:only-child::after {width: 0;}#sk-container-id-8 div.sk-dashed-wrapped {border: 1px dashed gray;margin: 0 0.4em 0.5em 0.4em;box-sizing: border-box;padding-bottom: 0.4em;background-color: white;}#sk-container-id-8 div.sk-label label {font-family: monospace;font-weight: bold;display: inline-block;line-height: 1.2em;}#sk-container-id-8 div.sk-label-container {text-align: center;}#sk-container-id-8 div.sk-container {/* jupyter's `normalize.less` sets `[hidden] { display: none; }` but bootstrap.min.css set `[hidden] { display: none !important; }` so we also need the `!important` here to be able to override the default hidden behavior on the sphinx rendered scikit-learn.org. See: https://github.com/scikit-learn/scikit-learn/issues/21755 */display: inline-block !important;position: relative;}#sk-container-id-8 div.sk-text-repr-fallback {display: none;}</style><div id=\"sk-container-id-8\" class=\"sk-top-container\"><div class=\"sk-text-repr-fallback\"><pre>DecisionTreeClassifier()</pre><b>In a Jupyter environment, please rerun this cell to show the HTML representation or trust the notebook. <br />On GitHub, the HTML representation is unable to render, please try loading this page with nbviewer.org.</b></div><div class=\"sk-container\" hidden><div class=\"sk-item\"><div class=\"sk-estimator sk-toggleable\"><input class=\"sk-toggleable__control sk-hidden--visually\" id=\"sk-estimator-id-8\" type=\"checkbox\" checked><label for=\"sk-estimator-id-8\" class=\"sk-toggleable__label sk-toggleable__label-arrow\">DecisionTreeClassifier</label><div class=\"sk-toggleable__content\"><pre>DecisionTreeClassifier()</pre></div></div></div></div></div>"
      ],
      "text/plain": [
       "DecisionTreeClassifier()"
      ]
     },
     "execution_count": 43,
     "metadata": {},
     "output_type": "execute_result"
    }
   ],
   "source": [
    "y = data['Ack.']\n",
    "X_train, X_test, y_train, y_test = train_test_split(X, y, test_size = 0.25, random_state = 0)\n",
    "\n",
    "dtc_ack = DecisionTreeClassifier()\n",
    "dtc_ack.fit(X_train, y_train)"
   ]
  },
  {
   "cell_type": "code",
   "execution_count": 44,
   "metadata": {},
   "outputs": [
    {
     "data": {
      "text/plain": [
       "0.464750378214826"
      ]
     },
     "execution_count": 44,
     "metadata": {},
     "output_type": "execute_result"
    }
   ],
   "source": [
    "y_pred = dtc_disclocure.predict(X_test)\n",
    "from sklearn.metrics import accuracy_score, confusion_matrix\n",
    "accuracy_score(y_test, y_pred)"
   ]
  },
  {
   "cell_type": "code",
   "execution_count": 45,
   "metadata": {},
   "outputs": [
    {
     "data": {
      "text/plain": [
       "array([[ 710, 1311],\n",
       "       [ 458,  826]])"
      ]
     },
     "execution_count": 45,
     "metadata": {},
     "output_type": "execute_result"
    }
   ],
   "source": [
    "confusion_matrix(y_test, y_pred)"
   ]
  },
  {
   "cell_type": "code",
   "execution_count": 46,
   "metadata": {},
   "outputs": [
    {
     "data": {
      "text/plain": [
       "0.4828997369190295"
      ]
     },
     "execution_count": 46,
     "metadata": {},
     "output_type": "execute_result"
    }
   ],
   "source": [
    "f1_score(y_test, y_pred)"
   ]
  },
  {
   "attachments": {},
   "cell_type": "markdown",
   "metadata": {},
   "source": [
    "##### Model for Advisement"
   ]
  },
  {
   "cell_type": "code",
   "execution_count": 47,
   "metadata": {},
   "outputs": [
    {
     "data": {
      "text/html": [
       "<style>#sk-container-id-9 {color: black;background-color: white;}#sk-container-id-9 pre{padding: 0;}#sk-container-id-9 div.sk-toggleable {background-color: white;}#sk-container-id-9 label.sk-toggleable__label {cursor: pointer;display: block;width: 100%;margin-bottom: 0;padding: 0.3em;box-sizing: border-box;text-align: center;}#sk-container-id-9 label.sk-toggleable__label-arrow:before {content: \"▸\";float: left;margin-right: 0.25em;color: #696969;}#sk-container-id-9 label.sk-toggleable__label-arrow:hover:before {color: black;}#sk-container-id-9 div.sk-estimator:hover label.sk-toggleable__label-arrow:before {color: black;}#sk-container-id-9 div.sk-toggleable__content {max-height: 0;max-width: 0;overflow: hidden;text-align: left;background-color: #f0f8ff;}#sk-container-id-9 div.sk-toggleable__content pre {margin: 0.2em;color: black;border-radius: 0.25em;background-color: #f0f8ff;}#sk-container-id-9 input.sk-toggleable__control:checked~div.sk-toggleable__content {max-height: 200px;max-width: 100%;overflow: auto;}#sk-container-id-9 input.sk-toggleable__control:checked~label.sk-toggleable__label-arrow:before {content: \"▾\";}#sk-container-id-9 div.sk-estimator input.sk-toggleable__control:checked~label.sk-toggleable__label {background-color: #d4ebff;}#sk-container-id-9 div.sk-label input.sk-toggleable__control:checked~label.sk-toggleable__label {background-color: #d4ebff;}#sk-container-id-9 input.sk-hidden--visually {border: 0;clip: rect(1px 1px 1px 1px);clip: rect(1px, 1px, 1px, 1px);height: 1px;margin: -1px;overflow: hidden;padding: 0;position: absolute;width: 1px;}#sk-container-id-9 div.sk-estimator {font-family: monospace;background-color: #f0f8ff;border: 1px dotted black;border-radius: 0.25em;box-sizing: border-box;margin-bottom: 0.5em;}#sk-container-id-9 div.sk-estimator:hover {background-color: #d4ebff;}#sk-container-id-9 div.sk-parallel-item::after {content: \"\";width: 100%;border-bottom: 1px solid gray;flex-grow: 1;}#sk-container-id-9 div.sk-label:hover label.sk-toggleable__label {background-color: #d4ebff;}#sk-container-id-9 div.sk-serial::before {content: \"\";position: absolute;border-left: 1px solid gray;box-sizing: border-box;top: 0;bottom: 0;left: 50%;z-index: 0;}#sk-container-id-9 div.sk-serial {display: flex;flex-direction: column;align-items: center;background-color: white;padding-right: 0.2em;padding-left: 0.2em;position: relative;}#sk-container-id-9 div.sk-item {position: relative;z-index: 1;}#sk-container-id-9 div.sk-parallel {display: flex;align-items: stretch;justify-content: center;background-color: white;position: relative;}#sk-container-id-9 div.sk-item::before, #sk-container-id-9 div.sk-parallel-item::before {content: \"\";position: absolute;border-left: 1px solid gray;box-sizing: border-box;top: 0;bottom: 0;left: 50%;z-index: -1;}#sk-container-id-9 div.sk-parallel-item {display: flex;flex-direction: column;z-index: 1;position: relative;background-color: white;}#sk-container-id-9 div.sk-parallel-item:first-child::after {align-self: flex-end;width: 50%;}#sk-container-id-9 div.sk-parallel-item:last-child::after {align-self: flex-start;width: 50%;}#sk-container-id-9 div.sk-parallel-item:only-child::after {width: 0;}#sk-container-id-9 div.sk-dashed-wrapped {border: 1px dashed gray;margin: 0 0.4em 0.5em 0.4em;box-sizing: border-box;padding-bottom: 0.4em;background-color: white;}#sk-container-id-9 div.sk-label label {font-family: monospace;font-weight: bold;display: inline-block;line-height: 1.2em;}#sk-container-id-9 div.sk-label-container {text-align: center;}#sk-container-id-9 div.sk-container {/* jupyter's `normalize.less` sets `[hidden] { display: none; }` but bootstrap.min.css set `[hidden] { display: none !important; }` so we also need the `!important` here to be able to override the default hidden behavior on the sphinx rendered scikit-learn.org. See: https://github.com/scikit-learn/scikit-learn/issues/21755 */display: inline-block !important;position: relative;}#sk-container-id-9 div.sk-text-repr-fallback {display: none;}</style><div id=\"sk-container-id-9\" class=\"sk-top-container\"><div class=\"sk-text-repr-fallback\"><pre>DecisionTreeClassifier()</pre><b>In a Jupyter environment, please rerun this cell to show the HTML representation or trust the notebook. <br />On GitHub, the HTML representation is unable to render, please try loading this page with nbviewer.org.</b></div><div class=\"sk-container\" hidden><div class=\"sk-item\"><div class=\"sk-estimator sk-toggleable\"><input class=\"sk-toggleable__control sk-hidden--visually\" id=\"sk-estimator-id-9\" type=\"checkbox\" checked><label for=\"sk-estimator-id-9\" class=\"sk-toggleable__label sk-toggleable__label-arrow\">DecisionTreeClassifier</label><div class=\"sk-toggleable__content\"><pre>DecisionTreeClassifier()</pre></div></div></div></div></div>"
      ],
      "text/plain": [
       "DecisionTreeClassifier()"
      ]
     },
     "execution_count": 47,
     "metadata": {},
     "output_type": "execute_result"
    }
   ],
   "source": [
    "y = data['Advisement']\n",
    "X_train, X_test, y_train, y_test = train_test_split(X, y, test_size = 0.25, random_state = 0)\n",
    "\n",
    "dtc_advisement = DecisionTreeClassifier()\n",
    "dtc_advisement.fit(X_train, y_train)"
   ]
  },
  {
   "cell_type": "code",
   "execution_count": 48,
   "metadata": {},
   "outputs": [
    {
     "data": {
      "text/plain": [
       "0.9125567322239032"
      ]
     },
     "execution_count": 48,
     "metadata": {},
     "output_type": "execute_result"
    }
   ],
   "source": [
    "y_pred = dtc_advisement.predict(X_test)\n",
    "from sklearn.metrics import accuracy_score, confusion_matrix\n",
    "accuracy_score(y_test, y_pred)"
   ]
  },
  {
   "cell_type": "code",
   "execution_count": 49,
   "metadata": {},
   "outputs": [
    {
     "data": {
      "text/plain": [
       "0.033444816053511704"
      ]
     },
     "execution_count": 49,
     "metadata": {},
     "output_type": "execute_result"
    }
   ],
   "source": [
    "f1_score(y_test, y_pred)"
   ]
  },
  {
   "cell_type": "code",
   "execution_count": 50,
   "metadata": {},
   "outputs": [
    {
     "data": {
      "text/plain": [
       "array([[3011,  169],\n",
       "       [ 120,    5]])"
      ]
     },
     "execution_count": 50,
     "metadata": {},
     "output_type": "execute_result"
    }
   ],
   "source": [
    "confusion_matrix(y_test, y_pred)"
   ]
  }
 ],
 "metadata": {
  "kernelspec": {
   "display_name": "Python 3",
   "language": "python",
   "name": "python3"
  },
  "language_info": {
   "codemirror_mode": {
    "name": "ipython",
    "version": 3
   },
   "file_extension": ".py",
   "mimetype": "text/x-python",
   "name": "python",
   "nbconvert_exporter": "python",
   "pygments_lexer": "ipython3",
   "version": "3.9.6"
  },
  "orig_nbformat": 4
 },
 "nbformat": 4,
 "nbformat_minor": 2
}
